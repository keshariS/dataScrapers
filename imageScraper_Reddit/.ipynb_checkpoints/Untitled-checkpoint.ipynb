{
 "cells": [
  {
   "cell_type": "code",
   "execution_count": 1,
   "id": "5287d770",
   "metadata": {},
   "outputs": [
    {
     "name": "stderr",
     "output_type": "stream",
     "text": [
      "Version 7.5.0 of praw is outdated. Version 7.6.1 was released Friday November 11, 2022.\n"
     ]
    }
   ],
   "source": [
    "import pandas as pd\n",
    "import praw\n",
    "from praw.models import MoreComments\n",
    "reddit = praw.Reddit(user_agent=\"Comment Extraction (by /u/SageMode00)\",\n",
    "                     client_id=\"CxYuVD9eqn7MSB96p-iuQA\", client_secret=\"Bix79KOMrBUjaPFqK1gHfGC5uHVtUg\")"
   ]
  },
  {
   "cell_type": "code",
   "execution_count": 17,
   "id": "6447011a",
   "metadata": {},
   "outputs": [
    {
     "name": "stdout",
     "output_type": "stream",
     "text": [
      "                                                  body\n",
      "0                                        Visit My Shop\n",
      "1    Check out our [wiki page](https://www.reddit.c...\n",
      "2    Love it when I get to golf and smoke while on ...\n",
      "3                                       Great golf-gar\n",
      "4    \\[The follow is just meant in jest\\] Id defini...\n",
      "..                                                 ...\n",
      "943  Typically an ammonia smell means very young to...\n",
      "944  The fermentation process is supposed to eradic...\n",
      "945                          Maybe there’s weed in it?\n",
      "946  When I first smelled a cigar, I thought it sme...\n",
      "947  That smell and a yellowing of the cellophane a...\n",
      "\n",
      "[947 rows x 1 columns]\n"
     ]
    }
   ],
   "source": [
    "posts = []\n",
    "POST_COUNT = 100\n",
    "file_name = 'comments.csv'\n",
    "\n",
    "subreddit = reddit.subreddit(\"cigars\")\n",
    "\n",
    "for submission in subreddit.new(limit=POST_COUNT):\n",
    "    for top_level_comment in submission.comments:\n",
    "        if isinstance(top_level_comment, MoreComments):\n",
    "            continue\n",
    "        posts.append(top_level_comment.body)\n",
    "posts = pd.DataFrame(posts,columns=[\"body\"])\n",
    "\n",
    "\n",
    "indexNames = posts[(posts.body == '[removed]') | (posts.body == '[deleted]')].index\n",
    "posts.drop(indexNames, inplace=True)\n",
    "print(posts)"
   ]
  },
  {
   "cell_type": "code",
   "execution_count": 18,
   "id": "998e467f",
   "metadata": {},
   "outputs": [],
   "source": [
    "posts.to_csv(file_name, index=False)"
   ]
  },
  {
   "cell_type": "code",
   "execution_count": null,
   "id": "f6938a3c",
   "metadata": {},
   "outputs": [],
   "source": []
  }
 ],
 "metadata": {
  "kernelspec": {
   "display_name": "Python 3",
   "language": "python",
   "name": "python3"
  },
  "language_info": {
   "codemirror_mode": {
    "name": "ipython",
    "version": 3
   },
   "file_extension": ".py",
   "mimetype": "text/x-python",
   "name": "python",
   "nbconvert_exporter": "python",
   "pygments_lexer": "ipython3",
   "version": "3.6.13"
  }
 },
 "nbformat": 4,
 "nbformat_minor": 5
}
