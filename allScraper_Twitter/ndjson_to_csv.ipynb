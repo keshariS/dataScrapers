{
 "cells": [
  {
   "cell_type": "code",
   "execution_count": 3,
   "metadata": {},
   "outputs": [],
   "source": [
    "import ndjson, json\n",
    "import csv\n",
    "ndJsonFile = []\n",
    "with open('scraped_twitter_data0.ndjson') as f:\n",
    "    currLine = f.readline()\n",
    "    while (currLine != \"\") :\n",
    "        ndJsonFile.append(currLine)\n",
    "        currLine = f.readline()\n",
    "\n",
    "keys = set()\n",
    "\n",
    "for ndj_elem in ndJsonFile:\n",
    "    try:\n",
    "        ndj_elem = json.loads(ndj_elem)\n",
    "        for key in ndj_elem.keys():\n",
    "            keys.add(key)\n",
    "    except:\n",
    "        pass\n",
    "\n",
    "\n",
    "keys = sorted(keys) \n",
    "\n",
    "\n",
    "with open('output.csv','w') as csvfile:\n",
    "        csvWriter = csv.writer(csvfile, delimiter=',')\n",
    "        csvWriter.writerow(keys)\n",
    "        for ndj_elem in ndJsonFile:\n",
    "                try:\n",
    "                    ndj_elem = json.loads(ndj_elem)\n",
    "                    for key in keys:\n",
    "                        if key not in ndj_elem:\n",
    "                            ndj_elem[key]=\"\"\n",
    "                    csvWriter.writerow([ndj_elem[key] for key in keys])\n",
    "                except:\n",
    "                    pass"
   ]
  }
 ],
 "metadata": {
  "kernelspec": {
   "display_name": "base",
   "language": "python",
   "name": "python3"
  },
  "language_info": {
   "codemirror_mode": {
    "name": "ipython",
    "version": 3
   },
   "file_extension": ".py",
   "mimetype": "text/x-python",
   "name": "python",
   "nbconvert_exporter": "python",
   "pygments_lexer": "ipython3",
   "version": "3.8.12"
  },
  "orig_nbformat": 4,
  "vscode": {
   "interpreter": {
    "hash": "40d3a090f54c6569ab1632332b64b2c03c39dcf918b08424e98f38b5ae0af88f"
   }
  }
 },
 "nbformat": 4,
 "nbformat_minor": 2
}
