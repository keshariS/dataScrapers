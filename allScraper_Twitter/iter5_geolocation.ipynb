{
 "cells": [
  {
   "cell_type": "code",
   "execution_count": 9,
   "metadata": {},
   "outputs": [],
   "source": [
    "#geolocation using mordecai that uses docker in the background\n",
    "# -> sudo docker container ls\n",
    "# -> sudo docker stop <...>\n",
    "# ->  sudo docker run -d -p 127.0.0.1:9200:9200 -v $(pwd)/geonames_index/:/usr/share/elasticsearch/data elasticsearch:5.5.2\n",
    "category = 6\n",
    "import spacy\n",
    "import pandas as pd\n",
    "nlp = spacy.load(\"/home/ubuntu/.local/lib/python3.8/site-packages/en_core_web_lg/en_core_web_lg-2.3.1/\")\n",
    "\n",
    "from mordecai import Geoparser\n",
    "geo = Geoparser()\n",
    "\n",
    "df = pd.read_csv(f'topicModels/iter5_tweets_per_topic_cat{category}_enes.csv')\n",
    "tweets = df['Document'].to_list()\n",
    "print(tweets[0])\n",
    "\n",
    "state = []\n",
    "country = []\n",
    "\n",
    "for i in range(0,len(tweets)):\n",
    "    if i%1000 == 0:\n",
    "        print(\"<------------------\"+str(i)+\"------------------>\")\n",
    "    a = geo.geoparse(tweets[i])\n",
    "    for j in range(0,len(a)):\n",
    "        if a[j]['country_conf'] > 0.75:\n",
    "            #print(a)\n",
    "            print(str(a[j][\"geo\"][\"admin1\"]) + \" : \" + str(a[j][\"geo\"][\"country_code3\"]))\n",
    "            state.append(a[j][\"geo\"][\"admin1\"])\n",
    "            country.append(a[j][\"geo\"][\"country_code3\"])\n",
    "\n",
    "sk = [('state',state),('country',country)]\n",
    "data = dict(sk)\n",
    "df = pd.DataFrame(data)\n",
    "df.to_csv(f\"topicModels/iter5_GEO_cat{category}.csv\",index=False)\n",
    "print(\"saved location data to csv\")"
   ]
  },
  {
   "cell_type": "code",
   "execution_count": null,
   "metadata": {},
   "outputs": [],
   "source": []
  }
 ],
 "metadata": {
  "kernelspec": {
   "display_name": "Python 3",
   "language": "python",
   "name": "python3"
  },
  "language_info": {
   "codemirror_mode": {
    "name": "ipython",
    "version": 3
   },
   "file_extension": ".py",
   "mimetype": "text/x-python",
   "name": "python",
   "nbconvert_exporter": "python",
   "pygments_lexer": "ipython3",
   "version": "3.8.10"
  },
  "orig_nbformat": 4
 },
 "nbformat": 4,
 "nbformat_minor": 2
}
