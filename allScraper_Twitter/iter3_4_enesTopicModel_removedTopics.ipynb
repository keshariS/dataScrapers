{
 "cells": [
  {
   "cell_type": "code",
   "execution_count": 92,
   "metadata": {},
   "outputs": [],
   "source": [
    "### Iteration 3,4: topic modeling with removal of irrelevant keywords"
   ]
  },
  {
   "cell_type": "code",
   "execution_count": 16,
   "metadata": {},
   "outputs": [],
   "source": [
    "category = 5"
   ]
  },
  {
   "cell_type": "code",
   "execution_count": 17,
   "metadata": {},
   "outputs": [
    {
     "name": "stdout",
     "output_type": "stream",
     "text": [
      "Raw Tweets scraped: 38311\n"
     ]
    }
   ],
   "source": [
    "import pandas as pd\n",
    "import numpy as np\n",
    "import preprocessor as p\n",
    "from bertopic import BERTopic\n",
    "from sklearn.feature_extraction.text import CountVectorizer\n",
    "import nltk\n",
    "from nltk.corpus import stopwords\n",
    "#nltk.download('stopwords')\n",
    "\n",
    "df = pd.read_csv(f\"/mnt/smdata/twitter/VAMoS/finalData/ALLcat{category}.csv\", engine='python')\n",
    "print(\"Raw Tweets scraped: \" + str(df.shape[0]))\n",
    "#print(df.text)"
   ]
  },
  {
   "cell_type": "code",
   "execution_count": 18,
   "metadata": {},
   "outputs": [
    {
     "name": "stdout",
     "output_type": "stream",
     "text": [
      "after removing duplicate tweets: 31948\n"
     ]
    }
   ],
   "source": [
    "df['text'] = df['text'].apply(str.lower)\n",
    "#print(df.text)\n",
    "\n",
    "df = df.drop_duplicates(subset=['text'])\n",
    "print(\"after removing duplicate tweets: \" + str(df.shape[0]))"
   ]
  },
  {
   "cell_type": "code",
   "execution_count": 19,
   "metadata": {},
   "outputs": [
    {
     "name": "stdout",
     "output_type": "stream",
     "text": [
      "after removing irrelevant stuff: 22739\n"
     ]
    }
   ],
   "source": [
    "# remove irrelevant topic keywords per category\n",
    "remove1 = ['pea','seed','bean','podcast','radio','episode','listen','iphone','apple','spotify','whale','dolphin', 'youtube','video','audio','show','recording','live','song','check','coffee','capsule','nespresso','arsenal','world','chelsea','football','rugby','soccer','review','invest','podium','instagram','elon','linkedin','delete','escape','space','bath','earth','mars','ocean','tribunal','judicial','trial','just','venez','president','colombia','bugs','shirt','wave','tide','business','demand','holiday','tickets','podcasts','politic','election','education','school','missile','ukraine','twins','birth','airpod','sleep','race','wrestling','trump','media','crypto','bean','nfl','season','tonight','baylor','postgame','game','plays','nba','headphones','earphones','air','mentions','enjoyed','thank','taylor','swift','kravitz','twitter','tweet','battery','paintball','kubernetes','devops','unsubbed','tassimo','entire','card','followers','discount','relx','inf','team','trade','guest','forward','happy','subscribe']\n",
    "remove2 = ['seed','ball','perth','australia','booking','sydney','melbourne','plant','traffic','parking','york','onlyfan','camgirl','bank','dog','pet','podcast','trend','nfts','crypto','grow','nairobi','whatsapp','kenya','horny','porn','twitter','election','republi','vote','senate','democrat','russia','ukraine','pain','medical','opioid','patient','metro','bus','residential','route','street','stock','twitter','melatonin','sleep','night','insomnia','media','platform','tax','government','thailand','asia','bankok','california','green','giant','jerry','vicks','chest','nose','rub','anxiety','disorder','earth','atmosphere','water','almond','cook','spinach','biden','president','prison','citizen','holiday','christmas','patriot','navy','christmas','jersey','johannesburg','faded','lounges','arroz','tren','crime','driver','art','cancer','africans','never','friendly','oveja','train','foreigners','roadside','painting','breast','massage','aceite','pepper','mongodb','workstation','wax','trail','company','investing','german','europe','blockchain']\n",
    "remove3 = ['ukraine', 'congratulations','thank','winners','please','much','great']\n",
    "remove4 = ['ukraine']\n",
    "remove5 = ['ukraine','lady', 'episode','pronouns','zodiac','tattoo','height','radio','podcast','music','radio','twitter','onlyfan','tweet','listen','memory6','distract','mirror','want','would','dont','trump','republican','democrat','election','president','congress','fav','nowplaying','girls','alarms','god','crack','sleep','height','pop','women'\t,'alarm'\t,'church'\t,'russian',\t'cmere'\t,'bed','tattoos',\t'song',\t'men',\t'test'\t,'satan',\t'russia',\t'crackhead',\t'nap','piercings',\t'listen'\t,'ladies'\t,'detectors',\t'lord',\t'kyiv',\t'dontcha','zodiac'\t,'feat'\t,'girlfriend'\t,'fire'\t,'shall',\t'moscow',\t'offer',\t'insomnia','pronouns'\t,'tyga',\t'mcstan',\t'carbon'\t,'bible'\t,'donetsk',\t'echelon',\t'ez','playing'\t,'marry'\t,'monoxide'\t,'holy','aiko'\t,'drink',\t'home',\t'torment',\t'explosion','pop',\t'shop'\t,'gravedigger', 'woo'\t,'suspects',\t'memory', 'killed',\t'rick',\t'years'\t,'robbery','choked',\t'watching' ,'somewhere',\t'movie', 'castle', 'headlight', 'compatible', 'machine', 'hammer',\t'sunrise' ,'boston', 'absolute',\t'arctic' ,'train'\t,'black', 'palestine', 'derail' ,'minute' ,'travelling', 'discount' ,'battery'\t,'balloon'\t,'fire',\t'plane',\t'christmas',\t'art','igbo', 'batteries',\t'bomb',\t'theres',\t'flight',\t'year',\t'painting',\t'dey' ,'photoelectric',\t'grenade',\t'wildfires',\t'airport'\t,'holiday'\t,'paint',\t'werey','beep',\t'fighter'\t,'typically'\t,'drone',\t'fryd'\t,'sketch',\t'seun','game','player','football','eagles','cowboys','turkey','cheese','pork','episode','season','recap','seaweed','water','frozen','ocean','weather','humidity','temperature','democracy','politic','ballot','senator','screen','valentine']\n",
    "remove6 = ['ukraine','podcast']\n",
    "remove = [remove1,remove2,remove3,remove4,remove5,remove6]\n",
    "\n",
    "df = df.loc[~df['text'].str.contains('|'.join(remove[category-1]))]\n",
    "print(\"after removing irrelevant stuff: \" + str(df.shape[0]))"
   ]
  },
  {
   "cell_type": "code",
   "execution_count": 20,
   "metadata": {},
   "outputs": [
    {
     "name": "stdout",
     "output_type": "stream",
     "text": [
      "total tweets = 22739\n",
      "total unique preprocessed tweets = 22454\n"
     ]
    },
    {
     "data": {
      "text/plain": [
       "'\\nk=1\\nfor tweet in unique_tweets:\\n    print(k)\\n    print(tweet)\\n    k=k+1\\n'"
      ]
     },
     "execution_count": 20,
     "metadata": {},
     "output_type": "execute_result"
    }
   ],
   "source": [
    "#convert to list \n",
    "tweets = df.text.to_list()\n",
    "print(\"total tweets = \"+str(len(tweets)))\n",
    "\n",
    "# remove URLs, mentions, emojis, RT etc.\n",
    "p.set_options(p.OPT.URL, p.OPT.EMOJI, p.OPT.MENTION, p.OPT.RESERVED, p.OPT.SMILEY, p.OPT.NUMBER)\n",
    "\n",
    "cleaned_tweets = []\n",
    "for i in tweets:\n",
    "    ct = p.clean(i)\n",
    "    cleaned_tweets.append(ct)\n",
    "\n",
    "seen = set()\n",
    "unique_tweets = []\n",
    "for item in cleaned_tweets:\n",
    "    if item not in seen:\n",
    "        seen.add(item)\n",
    "        unique_tweets.append(item)\n",
    "\n",
    "print(\"total unique preprocessed tweets = \"+str(len(unique_tweets)))\n",
    "\n",
    "\"\"\"\n",
    "k=1\n",
    "for tweet in unique_tweets:\n",
    "    print(k)\n",
    "    print(tweet)\n",
    "    k=k+1\n",
    "\"\"\""
   ]
  },
  {
   "cell_type": "code",
   "execution_count": 21,
   "metadata": {},
   "outputs": [
    {
     "name": "stdout",
     "output_type": "stream",
     "text": [
      "eng/esp tweets = 4621\n"
     ]
    }
   ],
   "source": [
    "# language detection\n",
    "from langdetect import detect\n",
    "\n",
    "eng_esp = []\n",
    "for tweet in unique_tweets:\n",
    "    try:\n",
    "        if len(tweet)>0 and (detect(tweet)=='en' or detect(tweet)=='es'):\n",
    "            eng_esp.append(tweet)\n",
    "    except:\n",
    "        continue\n",
    "\n",
    "print(\"eng/esp tweets = \"+str(len(eng_esp)))"
   ]
  },
  {
   "cell_type": "code",
   "execution_count": 22,
   "metadata": {},
   "outputs": [
    {
     "data": {
      "text/plain": [
       "'\\n#geolocation using mordecai that uses docker in the background\\n# -> sudo docker container ls\\n# -> sudo docker stop <...>\\n# ->  sudo docker .... see mordecai github repo\\nimport spacy\\nnlp = spacy.load(\"/home/ubuntu/.local/lib/python3.8/site-packages/en_core_web_lg/en_core_web_lg-2.3.1/\")\\n\\nfrom mordecai import Geoparser\\ngeo = Geoparser()\\n\\nstate = []\\ncountry = []\\n\\nfor i in range(0,len(eng_esp)):\\n    if i%1000 == 0:\\n        print(\"<------------------\"+str(i)+\"------------------>\")\\n    a = geo.geoparse(eng_esp[i])\\n    for j in range(0,len(a)):\\n        if a[j][\\'country_conf\\'] > 0.75:\\n            #print(a)\\n            print(str(a[j][\"geo\"][\"admin1\"]) + \" : \" + str(a[j][\"geo\"][\"country_code3\"]))\\n            state.append(a[j][\"geo\"][\"admin1\"])\\n            country.append(a[j][\"geo\"][\"country_code3\"])\\n\\nsk = [(\\'state\\',state),(\\'country\\',country)]\\ndata = dict(sk)\\ndf = pd.DataFrame(data)\\ndf.to_csv(f\"topicModels/eng_esp_GEO_cat{category}.csv\",index=False)\\nprint(\"saved location data to csv\")\\n\\n'"
      ]
     },
     "execution_count": 22,
     "metadata": {},
     "output_type": "execute_result"
    }
   ],
   "source": [
    "#geolocation using mordecai that uses docker in the background\n",
    "# -> sudo docker container ls\n",
    "# -> sudo docker stop <...>\n",
    "# ->  sudo docker .... see mordecai github repo\n",
    "import spacy\n",
    "nlp = spacy.load(\"/home/ubuntu/.local/lib/python3.8/site-packages/en_core_web_lg/en_core_web_lg-2.3.1/\")\n",
    "\n",
    "from mordecai import Geoparser\n",
    "geo = Geoparser()\n",
    "\n",
    "state = []\n",
    "country = []\n",
    "\n",
    "for i in range(0,len(eng_esp)):\n",
    "    if i%1000 == 0:\n",
    "        print(\"<------------------\"+str(i)+\"------------------>\")\n",
    "    a = geo.geoparse(eng_esp[i])\n",
    "    for j in range(0,len(a)):\n",
    "        if a[j]['country_conf'] > 0.75:\n",
    "            #print(a)\n",
    "            print(str(a[j][\"geo\"][\"admin1\"]) + \" : \" + str(a[j][\"geo\"][\"country_code3\"]))\n",
    "            state.append(a[j][\"geo\"][\"admin1\"])\n",
    "            country.append(a[j][\"geo\"][\"country_code3\"])\n",
    "\n",
    "sk = [('state',state),('country',country)]\n",
    "data = dict(sk)\n",
    "df = pd.DataFrame(data)\n",
    "df.to_csv(f\"topicModels/iter4_GEO_cat{category}.csv\",index=False)\n",
    "print(\"saved location data to csv\")\n",
    "            "
   ]
  },
  {
   "cell_type": "code",
   "execution_count": 23,
   "metadata": {},
   "outputs": [
    {
     "name": "stdout",
     "output_type": "stream",
     "text": [
      "total stopwords in all languages = 6715\n",
      "total stopwords in english/espanol = 485\n"
     ]
    }
   ],
   "source": [
    "#removing stopwords\n",
    "all_languages = ['arabic', 'azerbaijani', 'danish', 'dutch', 'english', 'finnish', 'french', 'german', 'greek','hungarian', 'indonesian', \n",
    " 'italian', 'kazakh', 'nepali', 'norwegian', 'portuguese', 'romanian', 'russian', 'slovene', 'spanish', 'swedish', 'tajik', 'turkish']\n",
    "\n",
    "enes = ['english', 'spanish']\n",
    "\n",
    "stops = set(stopwords.words(all_languages))\n",
    "print(\"total stopwords in all languages = \"+ str(len(list(stops))))\n",
    "\n",
    "stops_enes = set(stopwords.words(enes))\n",
    "print(\"total stopwords in english/espanol = \"+ str(len(list(stops_enes))))\n",
    "\n",
    "vectorizer_model = CountVectorizer(analyzer = 'word', stop_words=list(stops_enes))"
   ]
  },
  {
   "cell_type": "code",
   "execution_count": 24,
   "metadata": {},
   "outputs": [
    {
     "name": "stdout",
     "output_type": "stream",
     "text": [
      "total topics = 58\n"
     ]
    },
    {
     "data": {
      "text/html": [
       "<div>\n",
       "<style scoped>\n",
       "    .dataframe tbody tr th:only-of-type {\n",
       "        vertical-align: middle;\n",
       "    }\n",
       "\n",
       "    .dataframe tbody tr th {\n",
       "        vertical-align: top;\n",
       "    }\n",
       "\n",
       "    .dataframe thead th {\n",
       "        text-align: right;\n",
       "    }\n",
       "</style>\n",
       "<table border=\"1\" class=\"dataframe\">\n",
       "  <thead>\n",
       "    <tr style=\"text-align: right;\">\n",
       "      <th></th>\n",
       "      <th>Topic</th>\n",
       "      <th>Count</th>\n",
       "    </tr>\n",
       "  </thead>\n",
       "  <tbody>\n",
       "    <tr>\n",
       "      <th>0</th>\n",
       "      <td>-1</td>\n",
       "      <td>2332</td>\n",
       "    </tr>\n",
       "    <tr>\n",
       "      <th>1</th>\n",
       "      <td>0</td>\n",
       "      <td>262</td>\n",
       "    </tr>\n",
       "    <tr>\n",
       "      <th>2</th>\n",
       "      <td>1</td>\n",
       "      <td>167</td>\n",
       "    </tr>\n",
       "    <tr>\n",
       "      <th>3</th>\n",
       "      <td>2</td>\n",
       "      <td>140</td>\n",
       "    </tr>\n",
       "    <tr>\n",
       "      <th>4</th>\n",
       "      <td>3</td>\n",
       "      <td>74</td>\n",
       "    </tr>\n",
       "    <tr>\n",
       "      <th>5</th>\n",
       "      <td>4</td>\n",
       "      <td>72</td>\n",
       "    </tr>\n",
       "    <tr>\n",
       "      <th>6</th>\n",
       "      <td>5</td>\n",
       "      <td>69</td>\n",
       "    </tr>\n",
       "    <tr>\n",
       "      <th>7</th>\n",
       "      <td>6</td>\n",
       "      <td>63</td>\n",
       "    </tr>\n",
       "    <tr>\n",
       "      <th>8</th>\n",
       "      <td>7</td>\n",
       "      <td>58</td>\n",
       "    </tr>\n",
       "    <tr>\n",
       "      <th>9</th>\n",
       "      <td>8</td>\n",
       "      <td>54</td>\n",
       "    </tr>\n",
       "    <tr>\n",
       "      <th>10</th>\n",
       "      <td>9</td>\n",
       "      <td>53</td>\n",
       "    </tr>\n",
       "  </tbody>\n",
       "</table>\n",
       "</div>"
      ],
      "text/plain": [
       "    Topic  Count\n",
       "0      -1   2332\n",
       "1       0    262\n",
       "2       1    167\n",
       "3       2    140\n",
       "4       3     74\n",
       "5       4     72\n",
       "6       5     69\n",
       "7       6     63\n",
       "8       7     58\n",
       "9       8     54\n",
       "10      9     53"
      ]
     },
     "execution_count": 24,
     "metadata": {},
     "output_type": "execute_result"
    }
   ],
   "source": [
    "topic_model = BERTopic(nr_topics=\"auto\", vectorizer_model=vectorizer_model, language=\"multilingual\")\n",
    "\n",
    "topics, probabilities = topic_model.fit_transform(eng_esp)\n",
    "\n",
    "tot_topics = len(topic_model.get_topics()) - 1\n",
    "print(\"total topics = \" + str(tot_topics))\n",
    "topic_model.get_topic_freq().head(11)"
   ]
  },
  {
   "cell_type": "code",
   "execution_count": 25,
   "metadata": {},
   "outputs": [
    {
     "data": {
      "application/vnd.plotly.v1+json": {
       "config": {
        "plotlyServerURL": "https://plot.ly"
       },
       "data": [
        {
         "marker": {
          "color": "#D55E00"
         },
         "orientation": "h",
         "type": "bar",
         "x": [
          0.0105293984031123,
          0.01077081644502176,
          0.010803064803148733,
          0.011183671242365086,
          0.011965004730403024,
          0.012779660765918596,
          0.013401052513052016,
          0.01571557195966138,
          0.02160610669171632,
          0.02442767717870198
         ],
         "xaxis": "x",
         "y": [
          "way  ",
          "would  ",
          "week  ",
          "think  ",
          "get  ",
          "like  ",
          "said  ",
          "pod  ",
          "guy  ",
          "hes  "
         ],
         "yaxis": "y"
        },
        {
         "marker": {
          "color": "#0072B2"
         },
         "orientation": "h",
         "type": "bar",
         "x": [
          0.014368755762766125,
          0.014477203347170177,
          0.01531489019321888,
          0.015402845572021942,
          0.01583510912563956,
          0.01689007057169854,
          0.01699620279983083,
          0.0192770578472015,
          0.021208571641764637,
          0.022810290321117227
         ],
         "xaxis": "x2",
         "y": [
          "siempre  ",
          "dejar  ",
          "tan  ",
          "pod  ",
          "dios  ",
          "creo  ",
          "ms  ",
          "rt  ",
          "ser  ",
          "si  "
         ],
         "yaxis": "y2"
        },
        {
         "marker": {
          "color": "#CC79A7"
         },
         "orientation": "h",
         "type": "bar",
         "x": [
          0.01373018272344603,
          0.014541131888318366,
          0.015465661956170922,
          0.015528227165840345,
          0.015743984721095613,
          0.016601756836847795,
          0.01737756641384162,
          0.018134196991738107,
          0.020531229239950075,
          0.020883781017228136
         ],
         "xaxis": "x3",
         "y": [
          "mets  ",
          "rt  ",
          "winner  ",
          "eagles  ",
          "vs  ",
          "back  ",
          "ml  ",
          "new  ",
          "win  ",
          "match  "
         ],
         "yaxis": "y3"
        },
        {
         "marker": {
          "color": "#E69F00"
         },
         "orientation": "h",
         "type": "bar",
         "x": [
          0.024546029742289463,
          0.025174127703328244,
          0.028227443910278056,
          0.03197323865478378,
          0.03478157288047017,
          0.037650860980270706,
          0.04761682905761513,
          0.05305899208582884,
          0.059194955313890824,
          0.07896468215964034
         ],
         "xaxis": "x4",
         "y": [
          "saturday  ",
          "weekly  ",
          "recap  ",
          "tomorrow  ",
          "weekend  ",
          "monday  ",
          "morning  ",
          "today  ",
          "day  ",
          "week  "
         ],
         "yaxis": "y4"
        },
        {
         "marker": {
          "color": "#56B4E9"
         },
         "orientation": "h",
         "type": "bar",
         "x": [
          0.023315098581100577,
          0.02399388690723139,
          0.024471185219465674,
          0.025164189670609575,
          0.02685498381253166,
          0.02789882475810268,
          0.029575781351629353,
          0.03222669524630239,
          0.04001835325124513,
          0.22748637688215823
         ],
         "xaxis": "x5",
         "y": [
          "hitting  ",
          "still  ",
          "bar  ",
          "ear  ",
          "im  ",
          "juul  ",
          "threw  ",
          "hit  ",
          "found  ",
          "elfbar  "
         ],
         "yaxis": "y5"
        },
        {
         "marker": {
          "color": "#009E73"
         },
         "orientation": "h",
         "type": "bar",
         "x": [
          0.023183204807775127,
          0.023183204807775127,
          0.023183204807775127,
          0.025026941023539334,
          0.027137302323987443,
          0.029228371098766966,
          0.02934317475442839,
          0.033921627904984306,
          0.038877705636462284,
          0.05482716068524198
         ],
         "xaxis": "x6",
         "y": [
          "rm18  ",
          "breeze  ",
          "sy  ",
          "elfbar  ",
          "cookies  ",
          "flavor  ",
          "grape  ",
          "nutella  ",
          "juul  ",
          "mango  "
         ],
         "yaxis": "y6"
        },
        {
         "marker": {
          "color": "#F0E442"
         },
         "orientation": "h",
         "type": "bar",
         "x": [
          0.018283727814275067,
          0.01848600087340934,
          0.0197711280052095,
          0.020624866101429957,
          0.020624866101429957,
          0.020624866101429957,
          0.02172682399292772,
          0.02172682399292772,
          0.02180676067945944,
          0.027499821468573275
         ],
         "xaxis": "x7",
         "y": [
          "hoy  ",
          "vc  ",
          "mar  ",
          "gud  ",
          "kay  ",
          "ako  ",
          "hai  ",
          "din  ",
          "si  ",
          "shlok  "
         ],
         "yaxis": "y7"
        },
        {
         "marker": {
          "color": "#D55E00"
         },
         "orientation": "h",
         "type": "bar",
         "x": [
          0.019751658175388834,
          0.020134085489145238,
          0.02047450944860773,
          0.02116526205599101,
          0.02116526205599101,
          0.02116526205599101,
          0.02239208885700573,
          0.025208183009194557,
          0.02962748726308325,
          0.05202106992701439
         ],
         "xaxis": "x8",
         "y": [
          "texts  ",
          "one  ",
          "lol  ",
          "auntie  ",
          "ep6  ",
          "scourge  ",
          "talking  ",
          "wing  ",
          "bartise  ",
          "shes  "
         ],
         "yaxis": "y8"
        },
        {
         "marker": {
          "color": "#0072B2"
         },
         "orientation": "h",
         "type": "bar",
         "x": [
          0.018455076061016554,
          0.019515817138373012,
          0.021980305916553786,
          0.023508353420828364,
          0.024523468840114884,
          0.024523468840114884,
          0.024523468840114884,
          0.024523468840114884,
          0.029307074555405054,
          0.049874961339063426
         ],
         "xaxis": "x9",
         "y": [
          "secuestrado  ",
          "rt  ",
          "caso  ",
          "delito  ",
          "culpa  ",
          "juez  ",
          "jueces  ",
          "corte  ",
          "derecho  ",
          "police  "
         ],
         "yaxis": "y9"
        },
        {
         "marker": {
          "color": "#CC79A7"
         },
         "orientation": "h",
         "type": "bar",
         "x": [
          0.02660800507143432,
          0.027965219000798052,
          0.027965219000798052,
          0.027965219000798052,
          0.02996665815848232,
          0.03569079376549328,
          0.0357517482788778,
          0.03682679702753989,
          0.038637620303173636,
          0.05309371471655236
         ],
         "xaxis": "x10",
         "y": [
          "pods  ",
          "protocols  ",
          "horizontal  ",
          "tested  ",
          "cpod  ",
          "exclusive  ",
          "rt  ",
          "poc  ",
          "two  ",
          "oo  "
         ],
         "yaxis": "y10"
        },
        {
         "marker": {
          "color": "#E69F00"
         },
         "orientation": "h",
         "type": "bar",
         "x": [
          0.03244272271217241,
          0.03336733076830407,
          0.03367974193350564,
          0.03641742062052148,
          0.04080102060345016,
          0.04371850027921784,
          0.04678169755106253,
          0.048274425138028314,
          0.08675505999759058,
          0.1065666721337792
         ],
         "xaxis": "x11",
         "y": [
          "cbb  ",
          "recap  ",
          "1u  ",
          "caliburnak2  ",
          "110  ",
          "caliburn  ",
          "state  ",
          "st  ",
          "units  ",
          "ml  "
         ],
         "yaxis": "y11"
        },
        {
         "marker": {
          "color": "#56B4E9"
         },
         "orientation": "h",
         "type": "bar",
         "x": [
          0.026833823493590547,
          0.028440001343706677,
          0.02878240876474683,
          0.029264075939418956,
          0.0316594901165176,
          0.03355305254822336,
          0.03871949661352143,
          0.05592761858430508,
          0.08269639517470678,
          0.1200030606469794
         ],
         "xaxis": "x12",
         "y": [
          "use  ",
          "warning  ",
          "vapes  ",
          "device  ",
          "nicotine  ",
          "ecig  ",
          "disposablevape  ",
          "disposable  ",
          "vape  ",
          "vaporizer  "
         ],
         "yaxis": "y12"
        }
       ],
       "layout": {
        "annotations": [
         {
          "font": {
           "size": 16
          },
          "showarrow": false,
          "text": "Topic 0",
          "x": 0.0875,
          "xanchor": "center",
          "xref": "paper",
          "y": 1,
          "yanchor": "bottom",
          "yref": "paper"
         },
         {
          "font": {
           "size": 16
          },
          "showarrow": false,
          "text": "Topic 1",
          "x": 0.36250000000000004,
          "xanchor": "center",
          "xref": "paper",
          "y": 1,
          "yanchor": "bottom",
          "yref": "paper"
         },
         {
          "font": {
           "size": 16
          },
          "showarrow": false,
          "text": "Topic 2",
          "x": 0.6375000000000001,
          "xanchor": "center",
          "xref": "paper",
          "y": 1,
          "yanchor": "bottom",
          "yref": "paper"
         },
         {
          "font": {
           "size": 16
          },
          "showarrow": false,
          "text": "Topic 3",
          "x": 0.9125,
          "xanchor": "center",
          "xref": "paper",
          "y": 1,
          "yanchor": "bottom",
          "yref": "paper"
         },
         {
          "font": {
           "size": 16
          },
          "showarrow": false,
          "text": "Topic 4",
          "x": 0.0875,
          "xanchor": "center",
          "xref": "paper",
          "y": 0.6222222222222222,
          "yanchor": "bottom",
          "yref": "paper"
         },
         {
          "font": {
           "size": 16
          },
          "showarrow": false,
          "text": "Topic 5",
          "x": 0.36250000000000004,
          "xanchor": "center",
          "xref": "paper",
          "y": 0.6222222222222222,
          "yanchor": "bottom",
          "yref": "paper"
         },
         {
          "font": {
           "size": 16
          },
          "showarrow": false,
          "text": "Topic 6",
          "x": 0.6375000000000001,
          "xanchor": "center",
          "xref": "paper",
          "y": 0.6222222222222222,
          "yanchor": "bottom",
          "yref": "paper"
         },
         {
          "font": {
           "size": 16
          },
          "showarrow": false,
          "text": "Topic 7",
          "x": 0.9125,
          "xanchor": "center",
          "xref": "paper",
          "y": 0.6222222222222222,
          "yanchor": "bottom",
          "yref": "paper"
         },
         {
          "font": {
           "size": 16
          },
          "showarrow": false,
          "text": "Topic 8",
          "x": 0.0875,
          "xanchor": "center",
          "xref": "paper",
          "y": 0.24444444444444446,
          "yanchor": "bottom",
          "yref": "paper"
         },
         {
          "font": {
           "size": 16
          },
          "showarrow": false,
          "text": "Topic 9",
          "x": 0.36250000000000004,
          "xanchor": "center",
          "xref": "paper",
          "y": 0.24444444444444446,
          "yanchor": "bottom",
          "yref": "paper"
         },
         {
          "font": {
           "size": 16
          },
          "showarrow": false,
          "text": "Topic 10",
          "x": 0.6375000000000001,
          "xanchor": "center",
          "xref": "paper",
          "y": 0.24444444444444446,
          "yanchor": "bottom",
          "yref": "paper"
         },
         {
          "font": {
           "size": 16
          },
          "showarrow": false,
          "text": "Topic 11",
          "x": 0.9125,
          "xanchor": "center",
          "xref": "paper",
          "y": 0.24444444444444446,
          "yanchor": "bottom",
          "yref": "paper"
         }
        ],
        "height": 750,
        "hoverlabel": {
         "bgcolor": "white",
         "font": {
          "family": "Rockwell",
          "size": 16
         }
        },
        "showlegend": false,
        "template": {
         "data": {
          "bar": [
           {
            "error_x": {
             "color": "#2a3f5f"
            },
            "error_y": {
             "color": "#2a3f5f"
            },
            "marker": {
             "line": {
              "color": "white",
              "width": 0.5
             },
             "pattern": {
              "fillmode": "overlay",
              "size": 10,
              "solidity": 0.2
             }
            },
            "type": "bar"
           }
          ],
          "barpolar": [
           {
            "marker": {
             "line": {
              "color": "white",
              "width": 0.5
             },
             "pattern": {
              "fillmode": "overlay",
              "size": 10,
              "solidity": 0.2
             }
            },
            "type": "barpolar"
           }
          ],
          "carpet": [
           {
            "aaxis": {
             "endlinecolor": "#2a3f5f",
             "gridcolor": "#C8D4E3",
             "linecolor": "#C8D4E3",
             "minorgridcolor": "#C8D4E3",
             "startlinecolor": "#2a3f5f"
            },
            "baxis": {
             "endlinecolor": "#2a3f5f",
             "gridcolor": "#C8D4E3",
             "linecolor": "#C8D4E3",
             "minorgridcolor": "#C8D4E3",
             "startlinecolor": "#2a3f5f"
            },
            "type": "carpet"
           }
          ],
          "choropleth": [
           {
            "colorbar": {
             "outlinewidth": 0,
             "ticks": ""
            },
            "type": "choropleth"
           }
          ],
          "contour": [
           {
            "colorbar": {
             "outlinewidth": 0,
             "ticks": ""
            },
            "colorscale": [
             [
              0,
              "#0d0887"
             ],
             [
              0.1111111111111111,
              "#46039f"
             ],
             [
              0.2222222222222222,
              "#7201a8"
             ],
             [
              0.3333333333333333,
              "#9c179e"
             ],
             [
              0.4444444444444444,
              "#bd3786"
             ],
             [
              0.5555555555555556,
              "#d8576b"
             ],
             [
              0.6666666666666666,
              "#ed7953"
             ],
             [
              0.7777777777777778,
              "#fb9f3a"
             ],
             [
              0.8888888888888888,
              "#fdca26"
             ],
             [
              1,
              "#f0f921"
             ]
            ],
            "type": "contour"
           }
          ],
          "contourcarpet": [
           {
            "colorbar": {
             "outlinewidth": 0,
             "ticks": ""
            },
            "type": "contourcarpet"
           }
          ],
          "heatmap": [
           {
            "colorbar": {
             "outlinewidth": 0,
             "ticks": ""
            },
            "colorscale": [
             [
              0,
              "#0d0887"
             ],
             [
              0.1111111111111111,
              "#46039f"
             ],
             [
              0.2222222222222222,
              "#7201a8"
             ],
             [
              0.3333333333333333,
              "#9c179e"
             ],
             [
              0.4444444444444444,
              "#bd3786"
             ],
             [
              0.5555555555555556,
              "#d8576b"
             ],
             [
              0.6666666666666666,
              "#ed7953"
             ],
             [
              0.7777777777777778,
              "#fb9f3a"
             ],
             [
              0.8888888888888888,
              "#fdca26"
             ],
             [
              1,
              "#f0f921"
             ]
            ],
            "type": "heatmap"
           }
          ],
          "heatmapgl": [
           {
            "colorbar": {
             "outlinewidth": 0,
             "ticks": ""
            },
            "colorscale": [
             [
              0,
              "#0d0887"
             ],
             [
              0.1111111111111111,
              "#46039f"
             ],
             [
              0.2222222222222222,
              "#7201a8"
             ],
             [
              0.3333333333333333,
              "#9c179e"
             ],
             [
              0.4444444444444444,
              "#bd3786"
             ],
             [
              0.5555555555555556,
              "#d8576b"
             ],
             [
              0.6666666666666666,
              "#ed7953"
             ],
             [
              0.7777777777777778,
              "#fb9f3a"
             ],
             [
              0.8888888888888888,
              "#fdca26"
             ],
             [
              1,
              "#f0f921"
             ]
            ],
            "type": "heatmapgl"
           }
          ],
          "histogram": [
           {
            "marker": {
             "pattern": {
              "fillmode": "overlay",
              "size": 10,
              "solidity": 0.2
             }
            },
            "type": "histogram"
           }
          ],
          "histogram2d": [
           {
            "colorbar": {
             "outlinewidth": 0,
             "ticks": ""
            },
            "colorscale": [
             [
              0,
              "#0d0887"
             ],
             [
              0.1111111111111111,
              "#46039f"
             ],
             [
              0.2222222222222222,
              "#7201a8"
             ],
             [
              0.3333333333333333,
              "#9c179e"
             ],
             [
              0.4444444444444444,
              "#bd3786"
             ],
             [
              0.5555555555555556,
              "#d8576b"
             ],
             [
              0.6666666666666666,
              "#ed7953"
             ],
             [
              0.7777777777777778,
              "#fb9f3a"
             ],
             [
              0.8888888888888888,
              "#fdca26"
             ],
             [
              1,
              "#f0f921"
             ]
            ],
            "type": "histogram2d"
           }
          ],
          "histogram2dcontour": [
           {
            "colorbar": {
             "outlinewidth": 0,
             "ticks": ""
            },
            "colorscale": [
             [
              0,
              "#0d0887"
             ],
             [
              0.1111111111111111,
              "#46039f"
             ],
             [
              0.2222222222222222,
              "#7201a8"
             ],
             [
              0.3333333333333333,
              "#9c179e"
             ],
             [
              0.4444444444444444,
              "#bd3786"
             ],
             [
              0.5555555555555556,
              "#d8576b"
             ],
             [
              0.6666666666666666,
              "#ed7953"
             ],
             [
              0.7777777777777778,
              "#fb9f3a"
             ],
             [
              0.8888888888888888,
              "#fdca26"
             ],
             [
              1,
              "#f0f921"
             ]
            ],
            "type": "histogram2dcontour"
           }
          ],
          "mesh3d": [
           {
            "colorbar": {
             "outlinewidth": 0,
             "ticks": ""
            },
            "type": "mesh3d"
           }
          ],
          "parcoords": [
           {
            "line": {
             "colorbar": {
              "outlinewidth": 0,
              "ticks": ""
             }
            },
            "type": "parcoords"
           }
          ],
          "pie": [
           {
            "automargin": true,
            "type": "pie"
           }
          ],
          "scatter": [
           {
            "fillpattern": {
             "fillmode": "overlay",
             "size": 10,
             "solidity": 0.2
            },
            "type": "scatter"
           }
          ],
          "scatter3d": [
           {
            "line": {
             "colorbar": {
              "outlinewidth": 0,
              "ticks": ""
             }
            },
            "marker": {
             "colorbar": {
              "outlinewidth": 0,
              "ticks": ""
             }
            },
            "type": "scatter3d"
           }
          ],
          "scattercarpet": [
           {
            "marker": {
             "colorbar": {
              "outlinewidth": 0,
              "ticks": ""
             }
            },
            "type": "scattercarpet"
           }
          ],
          "scattergeo": [
           {
            "marker": {
             "colorbar": {
              "outlinewidth": 0,
              "ticks": ""
             }
            },
            "type": "scattergeo"
           }
          ],
          "scattergl": [
           {
            "marker": {
             "colorbar": {
              "outlinewidth": 0,
              "ticks": ""
             }
            },
            "type": "scattergl"
           }
          ],
          "scattermapbox": [
           {
            "marker": {
             "colorbar": {
              "outlinewidth": 0,
              "ticks": ""
             }
            },
            "type": "scattermapbox"
           }
          ],
          "scatterpolar": [
           {
            "marker": {
             "colorbar": {
              "outlinewidth": 0,
              "ticks": ""
             }
            },
            "type": "scatterpolar"
           }
          ],
          "scatterpolargl": [
           {
            "marker": {
             "colorbar": {
              "outlinewidth": 0,
              "ticks": ""
             }
            },
            "type": "scatterpolargl"
           }
          ],
          "scatterternary": [
           {
            "marker": {
             "colorbar": {
              "outlinewidth": 0,
              "ticks": ""
             }
            },
            "type": "scatterternary"
           }
          ],
          "surface": [
           {
            "colorbar": {
             "outlinewidth": 0,
             "ticks": ""
            },
            "colorscale": [
             [
              0,
              "#0d0887"
             ],
             [
              0.1111111111111111,
              "#46039f"
             ],
             [
              0.2222222222222222,
              "#7201a8"
             ],
             [
              0.3333333333333333,
              "#9c179e"
             ],
             [
              0.4444444444444444,
              "#bd3786"
             ],
             [
              0.5555555555555556,
              "#d8576b"
             ],
             [
              0.6666666666666666,
              "#ed7953"
             ],
             [
              0.7777777777777778,
              "#fb9f3a"
             ],
             [
              0.8888888888888888,
              "#fdca26"
             ],
             [
              1,
              "#f0f921"
             ]
            ],
            "type": "surface"
           }
          ],
          "table": [
           {
            "cells": {
             "fill": {
              "color": "#EBF0F8"
             },
             "line": {
              "color": "white"
             }
            },
            "header": {
             "fill": {
              "color": "#C8D4E3"
             },
             "line": {
              "color": "white"
             }
            },
            "type": "table"
           }
          ]
         },
         "layout": {
          "annotationdefaults": {
           "arrowcolor": "#2a3f5f",
           "arrowhead": 0,
           "arrowwidth": 1
          },
          "autotypenumbers": "strict",
          "coloraxis": {
           "colorbar": {
            "outlinewidth": 0,
            "ticks": ""
           }
          },
          "colorscale": {
           "diverging": [
            [
             0,
             "#8e0152"
            ],
            [
             0.1,
             "#c51b7d"
            ],
            [
             0.2,
             "#de77ae"
            ],
            [
             0.3,
             "#f1b6da"
            ],
            [
             0.4,
             "#fde0ef"
            ],
            [
             0.5,
             "#f7f7f7"
            ],
            [
             0.6,
             "#e6f5d0"
            ],
            [
             0.7,
             "#b8e186"
            ],
            [
             0.8,
             "#7fbc41"
            ],
            [
             0.9,
             "#4d9221"
            ],
            [
             1,
             "#276419"
            ]
           ],
           "sequential": [
            [
             0,
             "#0d0887"
            ],
            [
             0.1111111111111111,
             "#46039f"
            ],
            [
             0.2222222222222222,
             "#7201a8"
            ],
            [
             0.3333333333333333,
             "#9c179e"
            ],
            [
             0.4444444444444444,
             "#bd3786"
            ],
            [
             0.5555555555555556,
             "#d8576b"
            ],
            [
             0.6666666666666666,
             "#ed7953"
            ],
            [
             0.7777777777777778,
             "#fb9f3a"
            ],
            [
             0.8888888888888888,
             "#fdca26"
            ],
            [
             1,
             "#f0f921"
            ]
           ],
           "sequentialminus": [
            [
             0,
             "#0d0887"
            ],
            [
             0.1111111111111111,
             "#46039f"
            ],
            [
             0.2222222222222222,
             "#7201a8"
            ],
            [
             0.3333333333333333,
             "#9c179e"
            ],
            [
             0.4444444444444444,
             "#bd3786"
            ],
            [
             0.5555555555555556,
             "#d8576b"
            ],
            [
             0.6666666666666666,
             "#ed7953"
            ],
            [
             0.7777777777777778,
             "#fb9f3a"
            ],
            [
             0.8888888888888888,
             "#fdca26"
            ],
            [
             1,
             "#f0f921"
            ]
           ]
          },
          "colorway": [
           "#636efa",
           "#EF553B",
           "#00cc96",
           "#ab63fa",
           "#FFA15A",
           "#19d3f3",
           "#FF6692",
           "#B6E880",
           "#FF97FF",
           "#FECB52"
          ],
          "font": {
           "color": "#2a3f5f"
          },
          "geo": {
           "bgcolor": "white",
           "lakecolor": "white",
           "landcolor": "white",
           "showlakes": true,
           "showland": true,
           "subunitcolor": "#C8D4E3"
          },
          "hoverlabel": {
           "align": "left"
          },
          "hovermode": "closest",
          "mapbox": {
           "style": "light"
          },
          "paper_bgcolor": "white",
          "plot_bgcolor": "white",
          "polar": {
           "angularaxis": {
            "gridcolor": "#EBF0F8",
            "linecolor": "#EBF0F8",
            "ticks": ""
           },
           "bgcolor": "white",
           "radialaxis": {
            "gridcolor": "#EBF0F8",
            "linecolor": "#EBF0F8",
            "ticks": ""
           }
          },
          "scene": {
           "xaxis": {
            "backgroundcolor": "white",
            "gridcolor": "#DFE8F3",
            "gridwidth": 2,
            "linecolor": "#EBF0F8",
            "showbackground": true,
            "ticks": "",
            "zerolinecolor": "#EBF0F8"
           },
           "yaxis": {
            "backgroundcolor": "white",
            "gridcolor": "#DFE8F3",
            "gridwidth": 2,
            "linecolor": "#EBF0F8",
            "showbackground": true,
            "ticks": "",
            "zerolinecolor": "#EBF0F8"
           },
           "zaxis": {
            "backgroundcolor": "white",
            "gridcolor": "#DFE8F3",
            "gridwidth": 2,
            "linecolor": "#EBF0F8",
            "showbackground": true,
            "ticks": "",
            "zerolinecolor": "#EBF0F8"
           }
          },
          "shapedefaults": {
           "line": {
            "color": "#2a3f5f"
           }
          },
          "ternary": {
           "aaxis": {
            "gridcolor": "#DFE8F3",
            "linecolor": "#A2B1C6",
            "ticks": ""
           },
           "baxis": {
            "gridcolor": "#DFE8F3",
            "linecolor": "#A2B1C6",
            "ticks": ""
           },
           "bgcolor": "white",
           "caxis": {
            "gridcolor": "#DFE8F3",
            "linecolor": "#A2B1C6",
            "ticks": ""
           }
          },
          "title": {
           "x": 0.05
          },
          "xaxis": {
           "automargin": true,
           "gridcolor": "#EBF0F8",
           "linecolor": "#EBF0F8",
           "ticks": "",
           "title": {
            "standoff": 15
           },
           "zerolinecolor": "#EBF0F8",
           "zerolinewidth": 2
          },
          "yaxis": {
           "automargin": true,
           "gridcolor": "#EBF0F8",
           "linecolor": "#EBF0F8",
           "ticks": "",
           "title": {
            "standoff": 15
           },
           "zerolinecolor": "#EBF0F8",
           "zerolinewidth": 2
          }
         }
        },
        "title": {
         "font": {
          "color": "Black",
          "size": 22
         },
         "text": "Cat 1 (# eng/esp tweets = 4621) : Topic word scores (total = 58)",
         "x": 0.5,
         "xanchor": "center",
         "yanchor": "top"
        },
        "width": 1000,
        "xaxis": {
         "anchor": "y",
         "domain": [
          0,
          0.175
         ],
         "showgrid": true
        },
        "xaxis10": {
         "anchor": "y10",
         "domain": [
          0.275,
          0.45
         ],
         "showgrid": true
        },
        "xaxis11": {
         "anchor": "y11",
         "domain": [
          0.55,
          0.7250000000000001
         ],
         "showgrid": true
        },
        "xaxis12": {
         "anchor": "y12",
         "domain": [
          0.825,
          1
         ],
         "showgrid": true
        },
        "xaxis2": {
         "anchor": "y2",
         "domain": [
          0.275,
          0.45
         ],
         "showgrid": true
        },
        "xaxis3": {
         "anchor": "y3",
         "domain": [
          0.55,
          0.7250000000000001
         ],
         "showgrid": true
        },
        "xaxis4": {
         "anchor": "y4",
         "domain": [
          0.825,
          1
         ],
         "showgrid": true
        },
        "xaxis5": {
         "anchor": "y5",
         "domain": [
          0,
          0.175
         ],
         "showgrid": true
        },
        "xaxis6": {
         "anchor": "y6",
         "domain": [
          0.275,
          0.45
         ],
         "showgrid": true
        },
        "xaxis7": {
         "anchor": "y7",
         "domain": [
          0.55,
          0.7250000000000001
         ],
         "showgrid": true
        },
        "xaxis8": {
         "anchor": "y8",
         "domain": [
          0.825,
          1
         ],
         "showgrid": true
        },
        "xaxis9": {
         "anchor": "y9",
         "domain": [
          0,
          0.175
         ],
         "showgrid": true
        },
        "yaxis": {
         "anchor": "x",
         "domain": [
          0.7555555555555555,
          1
         ],
         "showgrid": true
        },
        "yaxis10": {
         "anchor": "x10",
         "domain": [
          0,
          0.24444444444444446
         ],
         "showgrid": true
        },
        "yaxis11": {
         "anchor": "x11",
         "domain": [
          0,
          0.24444444444444446
         ],
         "showgrid": true
        },
        "yaxis12": {
         "anchor": "x12",
         "domain": [
          0,
          0.24444444444444446
         ],
         "showgrid": true
        },
        "yaxis2": {
         "anchor": "x2",
         "domain": [
          0.7555555555555555,
          1
         ],
         "showgrid": true
        },
        "yaxis3": {
         "anchor": "x3",
         "domain": [
          0.7555555555555555,
          1
         ],
         "showgrid": true
        },
        "yaxis4": {
         "anchor": "x4",
         "domain": [
          0.7555555555555555,
          1
         ],
         "showgrid": true
        },
        "yaxis5": {
         "anchor": "x5",
         "domain": [
          0.37777777777777777,
          0.6222222222222222
         ],
         "showgrid": true
        },
        "yaxis6": {
         "anchor": "x6",
         "domain": [
          0.37777777777777777,
          0.6222222222222222
         ],
         "showgrid": true
        },
        "yaxis7": {
         "anchor": "x7",
         "domain": [
          0.37777777777777777,
          0.6222222222222222
         ],
         "showgrid": true
        },
        "yaxis8": {
         "anchor": "x8",
         "domain": [
          0.37777777777777777,
          0.6222222222222222
         ],
         "showgrid": true
        },
        "yaxis9": {
         "anchor": "x9",
         "domain": [
          0,
          0.24444444444444446
         ],
         "showgrid": true
        }
       }
      },
      "text/html": [
       "<div>                            <div id=\"19184d72-566a-4e5c-a6cd-9594a38f9afe\" class=\"plotly-graph-div\" style=\"height:750px; width:1000px;\"></div>            <script type=\"text/javascript\">                require([\"plotly\"], function(Plotly) {                    window.PLOTLYENV=window.PLOTLYENV || {};                                    if (document.getElementById(\"19184d72-566a-4e5c-a6cd-9594a38f9afe\")) {                    Plotly.newPlot(                        \"19184d72-566a-4e5c-a6cd-9594a38f9afe\",                        [{\"marker\":{\"color\":\"#D55E00\"},\"orientation\":\"h\",\"x\":[0.0105293984031123,0.01077081644502176,0.010803064803148733,0.011183671242365086,0.011965004730403024,0.012779660765918596,0.013401052513052016,0.01571557195966138,0.02160610669171632,0.02442767717870198],\"y\":[\"way  \",\"would  \",\"week  \",\"think  \",\"get  \",\"like  \",\"said  \",\"pod  \",\"guy  \",\"hes  \"],\"type\":\"bar\",\"xaxis\":\"x\",\"yaxis\":\"y\"},{\"marker\":{\"color\":\"#0072B2\"},\"orientation\":\"h\",\"x\":[0.014368755762766125,0.014477203347170177,0.01531489019321888,0.015402845572021942,0.01583510912563956,0.01689007057169854,0.01699620279983083,0.0192770578472015,0.021208571641764637,0.022810290321117227],\"y\":[\"siempre  \",\"dejar  \",\"tan  \",\"pod  \",\"dios  \",\"creo  \",\"ms  \",\"rt  \",\"ser  \",\"si  \"],\"type\":\"bar\",\"xaxis\":\"x2\",\"yaxis\":\"y2\"},{\"marker\":{\"color\":\"#CC79A7\"},\"orientation\":\"h\",\"x\":[0.01373018272344603,0.014541131888318366,0.015465661956170922,0.015528227165840345,0.015743984721095613,0.016601756836847795,0.01737756641384162,0.018134196991738107,0.020531229239950075,0.020883781017228136],\"y\":[\"mets  \",\"rt  \",\"winner  \",\"eagles  \",\"vs  \",\"back  \",\"ml  \",\"new  \",\"win  \",\"match  \"],\"type\":\"bar\",\"xaxis\":\"x3\",\"yaxis\":\"y3\"},{\"marker\":{\"color\":\"#E69F00\"},\"orientation\":\"h\",\"x\":[0.024546029742289463,0.025174127703328244,0.028227443910278056,0.03197323865478378,0.03478157288047017,0.037650860980270706,0.04761682905761513,0.05305899208582884,0.059194955313890824,0.07896468215964034],\"y\":[\"saturday  \",\"weekly  \",\"recap  \",\"tomorrow  \",\"weekend  \",\"monday  \",\"morning  \",\"today  \",\"day  \",\"week  \"],\"type\":\"bar\",\"xaxis\":\"x4\",\"yaxis\":\"y4\"},{\"marker\":{\"color\":\"#56B4E9\"},\"orientation\":\"h\",\"x\":[0.023315098581100577,0.02399388690723139,0.024471185219465674,0.025164189670609575,0.02685498381253166,0.02789882475810268,0.029575781351629353,0.03222669524630239,0.04001835325124513,0.22748637688215823],\"y\":[\"hitting  \",\"still  \",\"bar  \",\"ear  \",\"im  \",\"juul  \",\"threw  \",\"hit  \",\"found  \",\"elfbar  \"],\"type\":\"bar\",\"xaxis\":\"x5\",\"yaxis\":\"y5\"},{\"marker\":{\"color\":\"#009E73\"},\"orientation\":\"h\",\"x\":[0.023183204807775127,0.023183204807775127,0.023183204807775127,0.025026941023539334,0.027137302323987443,0.029228371098766966,0.02934317475442839,0.033921627904984306,0.038877705636462284,0.05482716068524198],\"y\":[\"rm18  \",\"breeze  \",\"sy  \",\"elfbar  \",\"cookies  \",\"flavor  \",\"grape  \",\"nutella  \",\"juul  \",\"mango  \"],\"type\":\"bar\",\"xaxis\":\"x6\",\"yaxis\":\"y6\"},{\"marker\":{\"color\":\"#F0E442\"},\"orientation\":\"h\",\"x\":[0.018283727814275067,0.01848600087340934,0.0197711280052095,0.020624866101429957,0.020624866101429957,0.020624866101429957,0.02172682399292772,0.02172682399292772,0.02180676067945944,0.027499821468573275],\"y\":[\"hoy  \",\"vc  \",\"mar  \",\"gud  \",\"kay  \",\"ako  \",\"hai  \",\"din  \",\"si  \",\"shlok  \"],\"type\":\"bar\",\"xaxis\":\"x7\",\"yaxis\":\"y7\"},{\"marker\":{\"color\":\"#D55E00\"},\"orientation\":\"h\",\"x\":[0.019751658175388834,0.020134085489145238,0.02047450944860773,0.02116526205599101,0.02116526205599101,0.02116526205599101,0.02239208885700573,0.025208183009194557,0.02962748726308325,0.05202106992701439],\"y\":[\"texts  \",\"one  \",\"lol  \",\"auntie  \",\"ep6  \",\"scourge  \",\"talking  \",\"wing  \",\"bartise  \",\"shes  \"],\"type\":\"bar\",\"xaxis\":\"x8\",\"yaxis\":\"y8\"},{\"marker\":{\"color\":\"#0072B2\"},\"orientation\":\"h\",\"x\":[0.018455076061016554,0.019515817138373012,0.021980305916553786,0.023508353420828364,0.024523468840114884,0.024523468840114884,0.024523468840114884,0.024523468840114884,0.029307074555405054,0.049874961339063426],\"y\":[\"secuestrado  \",\"rt  \",\"caso  \",\"delito  \",\"culpa  \",\"juez  \",\"jueces  \",\"corte  \",\"derecho  \",\"police  \"],\"type\":\"bar\",\"xaxis\":\"x9\",\"yaxis\":\"y9\"},{\"marker\":{\"color\":\"#CC79A7\"},\"orientation\":\"h\",\"x\":[0.02660800507143432,0.027965219000798052,0.027965219000798052,0.027965219000798052,0.02996665815848232,0.03569079376549328,0.0357517482788778,0.03682679702753989,0.038637620303173636,0.05309371471655236],\"y\":[\"pods  \",\"protocols  \",\"horizontal  \",\"tested  \",\"cpod  \",\"exclusive  \",\"rt  \",\"poc  \",\"two  \",\"oo  \"],\"type\":\"bar\",\"xaxis\":\"x10\",\"yaxis\":\"y10\"},{\"marker\":{\"color\":\"#E69F00\"},\"orientation\":\"h\",\"x\":[0.03244272271217241,0.03336733076830407,0.03367974193350564,0.03641742062052148,0.04080102060345016,0.04371850027921784,0.04678169755106253,0.048274425138028314,0.08675505999759058,0.1065666721337792],\"y\":[\"cbb  \",\"recap  \",\"1u  \",\"caliburnak2  \",\"110  \",\"caliburn  \",\"state  \",\"st  \",\"units  \",\"ml  \"],\"type\":\"bar\",\"xaxis\":\"x11\",\"yaxis\":\"y11\"},{\"marker\":{\"color\":\"#56B4E9\"},\"orientation\":\"h\",\"x\":[0.026833823493590547,0.028440001343706677,0.02878240876474683,0.029264075939418956,0.0316594901165176,0.03355305254822336,0.03871949661352143,0.05592761858430508,0.08269639517470678,0.1200030606469794],\"y\":[\"use  \",\"warning  \",\"vapes  \",\"device  \",\"nicotine  \",\"ecig  \",\"disposablevape  \",\"disposable  \",\"vape  \",\"vaporizer  \"],\"type\":\"bar\",\"xaxis\":\"x12\",\"yaxis\":\"y12\"}],                        {\"template\":{\"data\":{\"barpolar\":[{\"marker\":{\"line\":{\"color\":\"white\",\"width\":0.5},\"pattern\":{\"fillmode\":\"overlay\",\"size\":10,\"solidity\":0.2}},\"type\":\"barpolar\"}],\"bar\":[{\"error_x\":{\"color\":\"#2a3f5f\"},\"error_y\":{\"color\":\"#2a3f5f\"},\"marker\":{\"line\":{\"color\":\"white\",\"width\":0.5},\"pattern\":{\"fillmode\":\"overlay\",\"size\":10,\"solidity\":0.2}},\"type\":\"bar\"}],\"carpet\":[{\"aaxis\":{\"endlinecolor\":\"#2a3f5f\",\"gridcolor\":\"#C8D4E3\",\"linecolor\":\"#C8D4E3\",\"minorgridcolor\":\"#C8D4E3\",\"startlinecolor\":\"#2a3f5f\"},\"baxis\":{\"endlinecolor\":\"#2a3f5f\",\"gridcolor\":\"#C8D4E3\",\"linecolor\":\"#C8D4E3\",\"minorgridcolor\":\"#C8D4E3\",\"startlinecolor\":\"#2a3f5f\"},\"type\":\"carpet\"}],\"choropleth\":[{\"colorbar\":{\"outlinewidth\":0,\"ticks\":\"\"},\"type\":\"choropleth\"}],\"contourcarpet\":[{\"colorbar\":{\"outlinewidth\":0,\"ticks\":\"\"},\"type\":\"contourcarpet\"}],\"contour\":[{\"colorbar\":{\"outlinewidth\":0,\"ticks\":\"\"},\"colorscale\":[[0.0,\"#0d0887\"],[0.1111111111111111,\"#46039f\"],[0.2222222222222222,\"#7201a8\"],[0.3333333333333333,\"#9c179e\"],[0.4444444444444444,\"#bd3786\"],[0.5555555555555556,\"#d8576b\"],[0.6666666666666666,\"#ed7953\"],[0.7777777777777778,\"#fb9f3a\"],[0.8888888888888888,\"#fdca26\"],[1.0,\"#f0f921\"]],\"type\":\"contour\"}],\"heatmapgl\":[{\"colorbar\":{\"outlinewidth\":0,\"ticks\":\"\"},\"colorscale\":[[0.0,\"#0d0887\"],[0.1111111111111111,\"#46039f\"],[0.2222222222222222,\"#7201a8\"],[0.3333333333333333,\"#9c179e\"],[0.4444444444444444,\"#bd3786\"],[0.5555555555555556,\"#d8576b\"],[0.6666666666666666,\"#ed7953\"],[0.7777777777777778,\"#fb9f3a\"],[0.8888888888888888,\"#fdca26\"],[1.0,\"#f0f921\"]],\"type\":\"heatmapgl\"}],\"heatmap\":[{\"colorbar\":{\"outlinewidth\":0,\"ticks\":\"\"},\"colorscale\":[[0.0,\"#0d0887\"],[0.1111111111111111,\"#46039f\"],[0.2222222222222222,\"#7201a8\"],[0.3333333333333333,\"#9c179e\"],[0.4444444444444444,\"#bd3786\"],[0.5555555555555556,\"#d8576b\"],[0.6666666666666666,\"#ed7953\"],[0.7777777777777778,\"#fb9f3a\"],[0.8888888888888888,\"#fdca26\"],[1.0,\"#f0f921\"]],\"type\":\"heatmap\"}],\"histogram2dcontour\":[{\"colorbar\":{\"outlinewidth\":0,\"ticks\":\"\"},\"colorscale\":[[0.0,\"#0d0887\"],[0.1111111111111111,\"#46039f\"],[0.2222222222222222,\"#7201a8\"],[0.3333333333333333,\"#9c179e\"],[0.4444444444444444,\"#bd3786\"],[0.5555555555555556,\"#d8576b\"],[0.6666666666666666,\"#ed7953\"],[0.7777777777777778,\"#fb9f3a\"],[0.8888888888888888,\"#fdca26\"],[1.0,\"#f0f921\"]],\"type\":\"histogram2dcontour\"}],\"histogram2d\":[{\"colorbar\":{\"outlinewidth\":0,\"ticks\":\"\"},\"colorscale\":[[0.0,\"#0d0887\"],[0.1111111111111111,\"#46039f\"],[0.2222222222222222,\"#7201a8\"],[0.3333333333333333,\"#9c179e\"],[0.4444444444444444,\"#bd3786\"],[0.5555555555555556,\"#d8576b\"],[0.6666666666666666,\"#ed7953\"],[0.7777777777777778,\"#fb9f3a\"],[0.8888888888888888,\"#fdca26\"],[1.0,\"#f0f921\"]],\"type\":\"histogram2d\"}],\"histogram\":[{\"marker\":{\"pattern\":{\"fillmode\":\"overlay\",\"size\":10,\"solidity\":0.2}},\"type\":\"histogram\"}],\"mesh3d\":[{\"colorbar\":{\"outlinewidth\":0,\"ticks\":\"\"},\"type\":\"mesh3d\"}],\"parcoords\":[{\"line\":{\"colorbar\":{\"outlinewidth\":0,\"ticks\":\"\"}},\"type\":\"parcoords\"}],\"pie\":[{\"automargin\":true,\"type\":\"pie\"}],\"scatter3d\":[{\"line\":{\"colorbar\":{\"outlinewidth\":0,\"ticks\":\"\"}},\"marker\":{\"colorbar\":{\"outlinewidth\":0,\"ticks\":\"\"}},\"type\":\"scatter3d\"}],\"scattercarpet\":[{\"marker\":{\"colorbar\":{\"outlinewidth\":0,\"ticks\":\"\"}},\"type\":\"scattercarpet\"}],\"scattergeo\":[{\"marker\":{\"colorbar\":{\"outlinewidth\":0,\"ticks\":\"\"}},\"type\":\"scattergeo\"}],\"scattergl\":[{\"marker\":{\"colorbar\":{\"outlinewidth\":0,\"ticks\":\"\"}},\"type\":\"scattergl\"}],\"scattermapbox\":[{\"marker\":{\"colorbar\":{\"outlinewidth\":0,\"ticks\":\"\"}},\"type\":\"scattermapbox\"}],\"scatterpolargl\":[{\"marker\":{\"colorbar\":{\"outlinewidth\":0,\"ticks\":\"\"}},\"type\":\"scatterpolargl\"}],\"scatterpolar\":[{\"marker\":{\"colorbar\":{\"outlinewidth\":0,\"ticks\":\"\"}},\"type\":\"scatterpolar\"}],\"scatter\":[{\"fillpattern\":{\"fillmode\":\"overlay\",\"size\":10,\"solidity\":0.2},\"type\":\"scatter\"}],\"scatterternary\":[{\"marker\":{\"colorbar\":{\"outlinewidth\":0,\"ticks\":\"\"}},\"type\":\"scatterternary\"}],\"surface\":[{\"colorbar\":{\"outlinewidth\":0,\"ticks\":\"\"},\"colorscale\":[[0.0,\"#0d0887\"],[0.1111111111111111,\"#46039f\"],[0.2222222222222222,\"#7201a8\"],[0.3333333333333333,\"#9c179e\"],[0.4444444444444444,\"#bd3786\"],[0.5555555555555556,\"#d8576b\"],[0.6666666666666666,\"#ed7953\"],[0.7777777777777778,\"#fb9f3a\"],[0.8888888888888888,\"#fdca26\"],[1.0,\"#f0f921\"]],\"type\":\"surface\"}],\"table\":[{\"cells\":{\"fill\":{\"color\":\"#EBF0F8\"},\"line\":{\"color\":\"white\"}},\"header\":{\"fill\":{\"color\":\"#C8D4E3\"},\"line\":{\"color\":\"white\"}},\"type\":\"table\"}]},\"layout\":{\"annotationdefaults\":{\"arrowcolor\":\"#2a3f5f\",\"arrowhead\":0,\"arrowwidth\":1},\"autotypenumbers\":\"strict\",\"coloraxis\":{\"colorbar\":{\"outlinewidth\":0,\"ticks\":\"\"}},\"colorscale\":{\"diverging\":[[0,\"#8e0152\"],[0.1,\"#c51b7d\"],[0.2,\"#de77ae\"],[0.3,\"#f1b6da\"],[0.4,\"#fde0ef\"],[0.5,\"#f7f7f7\"],[0.6,\"#e6f5d0\"],[0.7,\"#b8e186\"],[0.8,\"#7fbc41\"],[0.9,\"#4d9221\"],[1,\"#276419\"]],\"sequential\":[[0.0,\"#0d0887\"],[0.1111111111111111,\"#46039f\"],[0.2222222222222222,\"#7201a8\"],[0.3333333333333333,\"#9c179e\"],[0.4444444444444444,\"#bd3786\"],[0.5555555555555556,\"#d8576b\"],[0.6666666666666666,\"#ed7953\"],[0.7777777777777778,\"#fb9f3a\"],[0.8888888888888888,\"#fdca26\"],[1.0,\"#f0f921\"]],\"sequentialminus\":[[0.0,\"#0d0887\"],[0.1111111111111111,\"#46039f\"],[0.2222222222222222,\"#7201a8\"],[0.3333333333333333,\"#9c179e\"],[0.4444444444444444,\"#bd3786\"],[0.5555555555555556,\"#d8576b\"],[0.6666666666666666,\"#ed7953\"],[0.7777777777777778,\"#fb9f3a\"],[0.8888888888888888,\"#fdca26\"],[1.0,\"#f0f921\"]]},\"colorway\":[\"#636efa\",\"#EF553B\",\"#00cc96\",\"#ab63fa\",\"#FFA15A\",\"#19d3f3\",\"#FF6692\",\"#B6E880\",\"#FF97FF\",\"#FECB52\"],\"font\":{\"color\":\"#2a3f5f\"},\"geo\":{\"bgcolor\":\"white\",\"lakecolor\":\"white\",\"landcolor\":\"white\",\"showlakes\":true,\"showland\":true,\"subunitcolor\":\"#C8D4E3\"},\"hoverlabel\":{\"align\":\"left\"},\"hovermode\":\"closest\",\"mapbox\":{\"style\":\"light\"},\"paper_bgcolor\":\"white\",\"plot_bgcolor\":\"white\",\"polar\":{\"angularaxis\":{\"gridcolor\":\"#EBF0F8\",\"linecolor\":\"#EBF0F8\",\"ticks\":\"\"},\"bgcolor\":\"white\",\"radialaxis\":{\"gridcolor\":\"#EBF0F8\",\"linecolor\":\"#EBF0F8\",\"ticks\":\"\"}},\"scene\":{\"xaxis\":{\"backgroundcolor\":\"white\",\"gridcolor\":\"#DFE8F3\",\"gridwidth\":2,\"linecolor\":\"#EBF0F8\",\"showbackground\":true,\"ticks\":\"\",\"zerolinecolor\":\"#EBF0F8\"},\"yaxis\":{\"backgroundcolor\":\"white\",\"gridcolor\":\"#DFE8F3\",\"gridwidth\":2,\"linecolor\":\"#EBF0F8\",\"showbackground\":true,\"ticks\":\"\",\"zerolinecolor\":\"#EBF0F8\"},\"zaxis\":{\"backgroundcolor\":\"white\",\"gridcolor\":\"#DFE8F3\",\"gridwidth\":2,\"linecolor\":\"#EBF0F8\",\"showbackground\":true,\"ticks\":\"\",\"zerolinecolor\":\"#EBF0F8\"}},\"shapedefaults\":{\"line\":{\"color\":\"#2a3f5f\"}},\"ternary\":{\"aaxis\":{\"gridcolor\":\"#DFE8F3\",\"linecolor\":\"#A2B1C6\",\"ticks\":\"\"},\"baxis\":{\"gridcolor\":\"#DFE8F3\",\"linecolor\":\"#A2B1C6\",\"ticks\":\"\"},\"bgcolor\":\"white\",\"caxis\":{\"gridcolor\":\"#DFE8F3\",\"linecolor\":\"#A2B1C6\",\"ticks\":\"\"}},\"title\":{\"x\":0.05},\"xaxis\":{\"automargin\":true,\"gridcolor\":\"#EBF0F8\",\"linecolor\":\"#EBF0F8\",\"ticks\":\"\",\"title\":{\"standoff\":15},\"zerolinecolor\":\"#EBF0F8\",\"zerolinewidth\":2},\"yaxis\":{\"automargin\":true,\"gridcolor\":\"#EBF0F8\",\"linecolor\":\"#EBF0F8\",\"ticks\":\"\",\"title\":{\"standoff\":15},\"zerolinecolor\":\"#EBF0F8\",\"zerolinewidth\":2}}},\"xaxis\":{\"anchor\":\"y\",\"domain\":[0.0,0.175],\"showgrid\":true},\"yaxis\":{\"anchor\":\"x\",\"domain\":[0.7555555555555555,1.0],\"showgrid\":true},\"xaxis2\":{\"anchor\":\"y2\",\"domain\":[0.275,0.45],\"showgrid\":true},\"yaxis2\":{\"anchor\":\"x2\",\"domain\":[0.7555555555555555,1.0],\"showgrid\":true},\"xaxis3\":{\"anchor\":\"y3\",\"domain\":[0.55,0.7250000000000001],\"showgrid\":true},\"yaxis3\":{\"anchor\":\"x3\",\"domain\":[0.7555555555555555,1.0],\"showgrid\":true},\"xaxis4\":{\"anchor\":\"y4\",\"domain\":[0.825,1.0],\"showgrid\":true},\"yaxis4\":{\"anchor\":\"x4\",\"domain\":[0.7555555555555555,1.0],\"showgrid\":true},\"xaxis5\":{\"anchor\":\"y5\",\"domain\":[0.0,0.175],\"showgrid\":true},\"yaxis5\":{\"anchor\":\"x5\",\"domain\":[0.37777777777777777,0.6222222222222222],\"showgrid\":true},\"xaxis6\":{\"anchor\":\"y6\",\"domain\":[0.275,0.45],\"showgrid\":true},\"yaxis6\":{\"anchor\":\"x6\",\"domain\":[0.37777777777777777,0.6222222222222222],\"showgrid\":true},\"xaxis7\":{\"anchor\":\"y7\",\"domain\":[0.55,0.7250000000000001],\"showgrid\":true},\"yaxis7\":{\"anchor\":\"x7\",\"domain\":[0.37777777777777777,0.6222222222222222],\"showgrid\":true},\"xaxis8\":{\"anchor\":\"y8\",\"domain\":[0.825,1.0],\"showgrid\":true},\"yaxis8\":{\"anchor\":\"x8\",\"domain\":[0.37777777777777777,0.6222222222222222],\"showgrid\":true},\"xaxis9\":{\"anchor\":\"y9\",\"domain\":[0.0,0.175],\"showgrid\":true},\"yaxis9\":{\"anchor\":\"x9\",\"domain\":[0.0,0.24444444444444446],\"showgrid\":true},\"xaxis10\":{\"anchor\":\"y10\",\"domain\":[0.275,0.45],\"showgrid\":true},\"yaxis10\":{\"anchor\":\"x10\",\"domain\":[0.0,0.24444444444444446],\"showgrid\":true},\"xaxis11\":{\"anchor\":\"y11\",\"domain\":[0.55,0.7250000000000001],\"showgrid\":true},\"yaxis11\":{\"anchor\":\"x11\",\"domain\":[0.0,0.24444444444444446],\"showgrid\":true},\"xaxis12\":{\"anchor\":\"y12\",\"domain\":[0.825,1.0],\"showgrid\":true},\"yaxis12\":{\"anchor\":\"x12\",\"domain\":[0.0,0.24444444444444446],\"showgrid\":true},\"annotations\":[{\"font\":{\"size\":16},\"showarrow\":false,\"text\":\"Topic 0\",\"x\":0.0875,\"xanchor\":\"center\",\"xref\":\"paper\",\"y\":1.0,\"yanchor\":\"bottom\",\"yref\":\"paper\"},{\"font\":{\"size\":16},\"showarrow\":false,\"text\":\"Topic 1\",\"x\":0.36250000000000004,\"xanchor\":\"center\",\"xref\":\"paper\",\"y\":1.0,\"yanchor\":\"bottom\",\"yref\":\"paper\"},{\"font\":{\"size\":16},\"showarrow\":false,\"text\":\"Topic 2\",\"x\":0.6375000000000001,\"xanchor\":\"center\",\"xref\":\"paper\",\"y\":1.0,\"yanchor\":\"bottom\",\"yref\":\"paper\"},{\"font\":{\"size\":16},\"showarrow\":false,\"text\":\"Topic 3\",\"x\":0.9125,\"xanchor\":\"center\",\"xref\":\"paper\",\"y\":1.0,\"yanchor\":\"bottom\",\"yref\":\"paper\"},{\"font\":{\"size\":16},\"showarrow\":false,\"text\":\"Topic 4\",\"x\":0.0875,\"xanchor\":\"center\",\"xref\":\"paper\",\"y\":0.6222222222222222,\"yanchor\":\"bottom\",\"yref\":\"paper\"},{\"font\":{\"size\":16},\"showarrow\":false,\"text\":\"Topic 5\",\"x\":0.36250000000000004,\"xanchor\":\"center\",\"xref\":\"paper\",\"y\":0.6222222222222222,\"yanchor\":\"bottom\",\"yref\":\"paper\"},{\"font\":{\"size\":16},\"showarrow\":false,\"text\":\"Topic 6\",\"x\":0.6375000000000001,\"xanchor\":\"center\",\"xref\":\"paper\",\"y\":0.6222222222222222,\"yanchor\":\"bottom\",\"yref\":\"paper\"},{\"font\":{\"size\":16},\"showarrow\":false,\"text\":\"Topic 7\",\"x\":0.9125,\"xanchor\":\"center\",\"xref\":\"paper\",\"y\":0.6222222222222222,\"yanchor\":\"bottom\",\"yref\":\"paper\"},{\"font\":{\"size\":16},\"showarrow\":false,\"text\":\"Topic 8\",\"x\":0.0875,\"xanchor\":\"center\",\"xref\":\"paper\",\"y\":0.24444444444444446,\"yanchor\":\"bottom\",\"yref\":\"paper\"},{\"font\":{\"size\":16},\"showarrow\":false,\"text\":\"Topic 9\",\"x\":0.36250000000000004,\"xanchor\":\"center\",\"xref\":\"paper\",\"y\":0.24444444444444446,\"yanchor\":\"bottom\",\"yref\":\"paper\"},{\"font\":{\"size\":16},\"showarrow\":false,\"text\":\"Topic 10\",\"x\":0.6375000000000001,\"xanchor\":\"center\",\"xref\":\"paper\",\"y\":0.24444444444444446,\"yanchor\":\"bottom\",\"yref\":\"paper\"},{\"font\":{\"size\":16},\"showarrow\":false,\"text\":\"Topic 11\",\"x\":0.9125,\"xanchor\":\"center\",\"xref\":\"paper\",\"y\":0.24444444444444446,\"yanchor\":\"bottom\",\"yref\":\"paper\"}],\"title\":{\"font\":{\"size\":22,\"color\":\"Black\"},\"text\":\"Cat 1 (# eng/esp tweets = 4621) : Topic word scores (total = 58)\",\"x\":0.5,\"xanchor\":\"center\",\"yanchor\":\"top\"},\"hoverlabel\":{\"font\":{\"size\":16,\"family\":\"Rockwell\"},\"bgcolor\":\"white\"},\"showlegend\":false,\"width\":1000,\"height\":750},                        {\"responsive\": true}                    ).then(function(){\n",
       "                            \n",
       "var gd = document.getElementById('19184d72-566a-4e5c-a6cd-9594a38f9afe');\n",
       "var x = new MutationObserver(function (mutations, observer) {{\n",
       "        var display = window.getComputedStyle(gd).display;\n",
       "        if (!display || display === 'none') {{\n",
       "            console.log([gd, 'removed!']);\n",
       "            Plotly.purge(gd);\n",
       "            observer.disconnect();\n",
       "        }}\n",
       "}});\n",
       "\n",
       "// Listen for the removal of the full notebook cells\n",
       "var notebookContainer = gd.closest('#notebook-container');\n",
       "if (notebookContainer) {{\n",
       "    x.observe(notebookContainer, {childList: true});\n",
       "}}\n",
       "\n",
       "// Listen for the clearing of the current output cell\n",
       "var outputEl = gd.closest('.output');\n",
       "if (outputEl) {{\n",
       "    x.observe(outputEl, {childList: true});\n",
       "}}\n",
       "\n",
       "                        })                };                });            </script>        </div>"
      ]
     },
     "metadata": {},
     "output_type": "display_data"
    }
   ],
   "source": [
    "topic_model.visualize_barchart(top_n_topics=12,n_words=10,title=f\"Cat {category} (# eng/esp tweets = {len(eng_esp)}) : Topic word scores (total = {tot_topics})\")"
   ]
  },
  {
   "cell_type": "code",
   "execution_count": 26,
   "metadata": {},
   "outputs": [
    {
     "name": "stdout",
     "output_type": "stream",
     "text": [
      "model saved\n",
      "doc info saved\n"
     ]
    }
   ],
   "source": [
    "topic_model.save(f\"/mnt/smdata/twitter/VAMoS/topicModels/iter4_enes_cat{category}_model\")\n",
    "print(\"model saved\")\n",
    "df = topic_model.get_document_info(eng_esp)\n",
    "df.to_csv(f\"topicModels/iter4_tweets_per_topic_cat{category}_enes.csv\")\n",
    "print(\"doc info saved\")"
   ]
  },
  {
   "cell_type": "code",
   "execution_count": 27,
   "metadata": {},
   "outputs": [
    {
     "name": "stdout",
     "output_type": "stream",
     "text": [
      "total topics = 58\n"
     ]
    }
   ],
   "source": [
    "a = topic_model.get_topics()\n",
    "n = len(a) - 1\n",
    "print(\"total topics = \" + str(n))"
   ]
  },
  {
   "cell_type": "code",
   "execution_count": 28,
   "metadata": {},
   "outputs": [
    {
     "name": "stdout",
     "output_type": "stream",
     "text": [
      "43\n",
      "saved topics to csv\n"
     ]
    }
   ],
   "source": [
    "# top topics\n",
    "if n > 40:\n",
    "    n = int(0.75*n)\n",
    "    print(n)\n",
    "\n",
    "sk = []\n",
    "for i in range(0,n):\n",
    "    x = []\n",
    "    for j in range(0,10):\n",
    "        x.append(a[i][j][0])\n",
    "    sk.append((f'topic{i}', x))\n",
    "data = dict(sk)\n",
    "df = pd.DataFrame(data)\n",
    "df.to_csv(f\"topicModels/iter4_majorTopics_cat{category}_enes.csv\",index=False)\n",
    "print(\"saved topics to csv\")"
   ]
  },
  {
   "cell_type": "code",
   "execution_count": 29,
   "metadata": {},
   "outputs": [
    {
     "data": {
      "text/plain": [
       "{-1: [('pod', 0.01576411906470047),\n",
       "  ('rt', 0.015348000816621875),\n",
       "  ('new', 0.007212801088746513),\n",
       "  ('amp', 0.006792690511150511),\n",
       "  ('one', 0.006650027636323757),\n",
       "  ('get', 0.006196179771871554),\n",
       "  ('like', 0.005626946461504717),\n",
       "  ('today', 0.005578986131372087),\n",
       "  ('great', 0.005341832349502925),\n",
       "  ('back', 0.005077311486558699)],\n",
       " 0: [('hes', 0.02442767717870198),\n",
       "  ('guy', 0.02160610669171632),\n",
       "  ('pod', 0.01571557195966138),\n",
       "  ('said', 0.013401052513052016),\n",
       "  ('like', 0.012779660765918596),\n",
       "  ('get', 0.011965004730403024),\n",
       "  ('think', 0.011183671242365086),\n",
       "  ('week', 0.010803064803148733),\n",
       "  ('would', 0.01077081644502176),\n",
       "  ('way', 0.0105293984031123)],\n",
       " 1: [('si', 0.022810290321117227),\n",
       "  ('ser', 0.021208571641764637),\n",
       "  ('rt', 0.0192770578472015),\n",
       "  ('ms', 0.01699620279983083),\n",
       "  ('creo', 0.01689007057169854),\n",
       "  ('dios', 0.01583510912563956),\n",
       "  ('pod', 0.015402845572021942),\n",
       "  ('tan', 0.01531489019321888),\n",
       "  ('dejar', 0.014477203347170177),\n",
       "  ('siempre', 0.014368755762766125)],\n",
       " 2: [('match', 0.020883781017228136),\n",
       "  ('win', 0.020531229239950075),\n",
       "  ('new', 0.018134196991738107),\n",
       "  ('ml', 0.01737756641384162),\n",
       "  ('back', 0.016601756836847795),\n",
       "  ('vs', 0.015743984721095613),\n",
       "  ('eagles', 0.015528227165840345),\n",
       "  ('winner', 0.015465661956170922),\n",
       "  ('rt', 0.014541131888318366),\n",
       "  ('mets', 0.01373018272344603)],\n",
       " 3: [('week', 0.07896468215964034),\n",
       "  ('day', 0.059194955313890824),\n",
       "  ('today', 0.05305899208582884),\n",
       "  ('morning', 0.04761682905761513),\n",
       "  ('monday', 0.037650860980270706),\n",
       "  ('weekend', 0.03478157288047017),\n",
       "  ('tomorrow', 0.03197323865478378),\n",
       "  ('recap', 0.028227443910278056),\n",
       "  ('weekly', 0.025174127703328244),\n",
       "  ('saturday', 0.024546029742289463)],\n",
       " 4: [('elfbar', 0.22748637688215823),\n",
       "  ('found', 0.04001835325124513),\n",
       "  ('hit', 0.03222669524630239),\n",
       "  ('threw', 0.029575781351629353),\n",
       "  ('juul', 0.02789882475810268),\n",
       "  ('im', 0.02685498381253166),\n",
       "  ('ear', 0.025164189670609575),\n",
       "  ('bar', 0.024471185219465674),\n",
       "  ('still', 0.02399388690723139),\n",
       "  ('hitting', 0.023315098581100577)],\n",
       " 5: [('mango', 0.05482716068524198),\n",
       "  ('juul', 0.038877705636462284),\n",
       "  ('nutella', 0.033921627904984306),\n",
       "  ('grape', 0.02934317475442839),\n",
       "  ('flavor', 0.029228371098766966),\n",
       "  ('cookies', 0.027137302323987443),\n",
       "  ('elfbar', 0.025026941023539334),\n",
       "  ('sy', 0.023183204807775127),\n",
       "  ('breeze', 0.023183204807775127),\n",
       "  ('rm18', 0.023183204807775127)],\n",
       " 6: [('shlok', 0.027499821468573275),\n",
       "  ('si', 0.02180676067945944),\n",
       "  ('din', 0.02172682399292772),\n",
       "  ('hai', 0.02172682399292772),\n",
       "  ('ako', 0.020624866101429957),\n",
       "  ('kay', 0.020624866101429957),\n",
       "  ('gud', 0.020624866101429957),\n",
       "  ('mar', 0.0197711280052095),\n",
       "  ('vc', 0.01848600087340934),\n",
       "  ('hoy', 0.018283727814275067)],\n",
       " 7: [('shes', 0.05202106992701439),\n",
       "  ('bartise', 0.02962748726308325),\n",
       "  ('wing', 0.025208183009194557),\n",
       "  ('talking', 0.02239208885700573),\n",
       "  ('scourge', 0.02116526205599101),\n",
       "  ('ep6', 0.02116526205599101),\n",
       "  ('auntie', 0.02116526205599101),\n",
       "  ('lol', 0.02047450944860773),\n",
       "  ('one', 0.020134085489145238),\n",
       "  ('texts', 0.019751658175388834)],\n",
       " 8: [('police', 0.049874961339063426),\n",
       "  ('derecho', 0.029307074555405054),\n",
       "  ('corte', 0.024523468840114884),\n",
       "  ('jueces', 0.024523468840114884),\n",
       "  ('juez', 0.024523468840114884),\n",
       "  ('culpa', 0.024523468840114884),\n",
       "  ('delito', 0.023508353420828364),\n",
       "  ('caso', 0.021980305916553786),\n",
       "  ('rt', 0.019515817138373012),\n",
       "  ('secuestrado', 0.018455076061016554)],\n",
       " 9: [('oo', 0.05309371471655236),\n",
       "  ('two', 0.038637620303173636),\n",
       "  ('poc', 0.03682679702753989),\n",
       "  ('rt', 0.0357517482788778),\n",
       "  ('exclusive', 0.03569079376549328),\n",
       "  ('cpod', 0.02996665815848232),\n",
       "  ('tested', 0.027965219000798052),\n",
       "  ('horizontal', 0.027965219000798052),\n",
       "  ('protocols', 0.027965219000798052),\n",
       "  ('pods', 0.02660800507143432)],\n",
       " 10: [('ml', 0.1065666721337792),\n",
       "  ('units', 0.08675505999759058),\n",
       "  ('st', 0.048274425138028314),\n",
       "  ('state', 0.04678169755106253),\n",
       "  ('caliburn', 0.04371850027921784),\n",
       "  ('110', 0.04080102060345016),\n",
       "  ('caliburnak2', 0.03641742062052148),\n",
       "  ('1u', 0.03367974193350564),\n",
       "  ('recap', 0.03336733076830407),\n",
       "  ('cbb', 0.03244272271217241)],\n",
       " 11: [('vaporizer', 0.1200030606469794),\n",
       "  ('vape', 0.08269639517470678),\n",
       "  ('disposable', 0.05592761858430508),\n",
       "  ('disposablevape', 0.03871949661352143),\n",
       "  ('ecig', 0.03355305254822336),\n",
       "  ('nicotine', 0.0316594901165176),\n",
       "  ('device', 0.029264075939418956),\n",
       "  ('vapes', 0.02878240876474683),\n",
       "  ('warning', 0.028440001343706677),\n",
       "  ('use', 0.026833823493590547)],\n",
       " 12: [('love', 0.10078693053972235),\n",
       "  ('loving', 0.054776196179708456),\n",
       "  ('wish', 0.036747622456672215),\n",
       "  ('favorite', 0.036747622456672215),\n",
       "  ('keep', 0.031593120139810686),\n",
       "  ('fans', 0.030816258567113442),\n",
       "  ('mihail', 0.029102235326987642),\n",
       "  ('marin', 0.029102235326987642),\n",
       "  ('good', 0.026833428476696147),\n",
       "  ('enjoy', 0.026216071211393004)],\n",
       " 13: [('cuba', 0.053169427758437006),\n",
       "  ('chile', 0.04959341999708705),\n",
       "  ('pueblo', 0.03940518768693525),\n",
       "  ('brasil', 0.0342699552090298),\n",
       "  ('fuerza', 0.0342699552090298),\n",
       "  ('congreso', 0.02906024744299455),\n",
       "  ('sancin', 0.028244871190806032),\n",
       "  ('frente', 0.024796709998543526),\n",
       "  ('rt', 0.02461995392840903),\n",
       "  ('votar', 0.02336998188458972)],\n",
       " 14: [('good', 0.0660949711952305),\n",
       "  ('best', 0.062585538564762),\n",
       "  ('great', 0.05741242537707195),\n",
       "  ('tiktok', 0.046124964245900756),\n",
       "  ('really', 0.0411029670596397),\n",
       "  ('nice', 0.04067128975133062),\n",
       "  ('always', 0.03989823706429535),\n",
       "  ('top', 0.03852440593619612),\n",
       "  ('fail', 0.035279376226130185),\n",
       "  ('youll', 0.032627249998083585)],\n",
       " 15: [('two', 0.15455048121269455),\n",
       "  ('orcas', 0.11103802504820132),\n",
       "  ('person', 0.05802190343788997),\n",
       "  ('pricks', 0.039955544211309764),\n",
       "  ('dumber', 0.039955544211309764),\n",
       "  ('calf', 0.039955544211309764),\n",
       "  ('makara', 0.039955544211309764),\n",
       "  ('exeter', 0.039955544211309764),\n",
       "  ('beach', 0.035395809811034906),\n",
       "  ('stayed', 0.035395809811034906)],\n",
       " 16: [('democracia', 0.08012935875825704),\n",
       "  ('gobierno', 0.05880117822993752),\n",
       "  ('dictadura', 0.03115243146044783),\n",
       "  ('gobiernos', 0.03115243146044783),\n",
       "  ('poder', 0.029679310672318288),\n",
       "  ('divisin', 0.028348308536881268),\n",
       "  ('rt', 0.024137209733734344),\n",
       "  ('moral', 0.022254650544167018),\n",
       "  ('comunismo', 0.022254650544167018),\n",
       "  ('democracy', 0.022254650544167018)],\n",
       " 17: [('affinity', 0.060524723980298636),\n",
       "  ('blvck', 0.04034981598686576),\n",
       "  ('specific', 0.03542387142649075),\n",
       "  ('pod', 0.03438458761519016),\n",
       "  ('find', 0.03430787899876949),\n",
       "  ('anti', 0.03338568840655674),\n",
       "  ('members', 0.03338568840655674),\n",
       "  ('machine', 0.029959327951443973),\n",
       "  ('power', 0.02943826686762978),\n",
       "  ('one', 0.02937932882599764)],\n",
       " 18: [('community', 0.06133598921759164),\n",
       "  ('bull', 0.037852695433212624),\n",
       "  ('bro', 0.028613100477895382),\n",
       "  ('unstoppable', 0.02848595269653378),\n",
       "  ('salesforce', 0.02848595269653378),\n",
       "  ('come', 0.026675977473040013),\n",
       "  ('best', 0.02558118147722709),\n",
       "  ('chain', 0.025235130288808413),\n",
       "  ('mil', 0.024190556618138678),\n",
       "  ('projects', 0.024190556618138678)],\n",
       " 19: [('cash', 0.11859953357482986),\n",
       "  ('money', 0.06089912077944005),\n",
       "  ('free', 0.05520998517787255),\n",
       "  ('play', 0.04586127030227737),\n",
       "  ('day', 0.04205559962989437),\n",
       "  ('lfg', 0.0353427288015096),\n",
       "  ('lets', 0.03383284487746669),\n",
       "  ('vip', 0.033288142168271084),\n",
       "  ('ov', 0.031919435633165405),\n",
       "  ('ml', 0.031134806491466237)],\n",
       " 20: [('nieve', 0.033911848448254504),\n",
       "  ('never', 0.03302849088251957),\n",
       "  ('ver', 0.029867265132666677),\n",
       "  ('aprender', 0.028798281688260336),\n",
       "  ('verde', 0.028798281688260336),\n",
       "  ('caso', 0.026926387826814727),\n",
       "  ('poltica', 0.026926387826814727),\n",
       "  ('ah', 0.026184853652201367),\n",
       "  ('sigue', 0.02553153793922545),\n",
       "  ('claro', 0.024947808565771484)],\n",
       " 21: [('nicotine', 0.0816296700785107),\n",
       "  ('smoking', 0.054454326721374104),\n",
       "  ('juul', 0.04828573294703338),\n",
       "  ('smoke', 0.045141754006419926),\n",
       "  ('mg', 0.03733095322008877),\n",
       "  ('cigarrillo', 0.03290664604754101),\n",
       "  ('fumar', 0.03123766127983566),\n",
       "  ('cigarettes', 0.03123766127983566),\n",
       "  ('vape', 0.030152515176969683),\n",
       "  ('smokers', 0.029944621056433807)],\n",
       " 22: [('juul', 0.18648033346623313),\n",
       "  ('lawsuits', 0.13458859384692065),\n",
       "  ('billion', 0.11215716153910053),\n",
       "  ('altria', 0.10519331879504433),\n",
       "  ('company', 0.10169730233292328),\n",
       "  ('vaping', 0.09846157060402906),\n",
       "  ('cigarette', 0.09735489830239771),\n",
       "  ('labs', 0.08181702572947892),\n",
       "  ('settlement', 0.07809987401116071),\n",
       "  ('stake', 0.07569071223758154)],\n",
       " 23: [('new', 0.10358574517789886),\n",
       "  ('amp', 0.048219036962969315),\n",
       "  ('alert', 0.04562388223027494),\n",
       "  ('release', 0.03363379721145198),\n",
       "  ('send', 0.032170015619551164),\n",
       "  ('week', 0.02950910966985553),\n",
       "  ('joined', 0.02900864623251822),\n",
       "  ('link', 0.026230291887729407),\n",
       "  ('brb', 0.024890171031307612),\n",
       "  ('tmc', 0.024890171031307612)],\n",
       " 24: [('cast', 0.2999133506607922),\n",
       "  ('blah', 0.0659413335193915),\n",
       "  ('brandi', 0.04710712021800334),\n",
       "  ('amy', 0.04710712021800334),\n",
       "  ('anticipating', 0.04710712021800334),\n",
       "  ('anybody', 0.041731246586550884),\n",
       "  ('watch', 0.03942709162672788),\n",
       "  ('ppl', 0.03859410116504829),\n",
       "  ('town', 0.03465512707385377),\n",
       "  ('series', 0.03465512707385377)],\n",
       " 25: [('mujeres', 0.1148706412537562),\n",
       "  ('trans', 0.06460161595546275),\n",
       "  ('mujer', 0.053326258061383934),\n",
       "  ('hombres', 0.04324568698686926),\n",
       "  ('became', 0.04145559097866508),\n",
       "  ('young', 0.037693519168693096),\n",
       "  ('transgender', 0.03254443520437328),\n",
       "  ('queers', 0.03254443520437328),\n",
       "  ('ministerio', 0.028830457991246176),\n",
       "  ('fucked', 0.02763706065244339)],\n",
       " 26: [('led', 0.11308091292649672),\n",
       "  ('fishing', 0.08823961774188628),\n",
       "  ('light', 0.07914220659647911),\n",
       "  ('lights', 0.0645782523381826),\n",
       "  ('ebay', 0.0645782523381826),\n",
       "  ('gauge', 0.060234923073385085),\n",
       "  ('gt', 0.0552283524477513),\n",
       "  ('connector', 0.05202928422423552),\n",
       "  ('pillar', 0.05202928422423552),\n",
       "  ('compatible', 0.045072710819738966)],\n",
       " 27: [('christmas', 0.24148152349686236),\n",
       "  ('cocoa', 0.09097211786283461),\n",
       "  ('merry', 0.07822305993231396),\n",
       "  ('prayer', 0.06486426853444126),\n",
       "  ('click', 0.050348779617565904),\n",
       "  ('stylpro', 0.04864820140083095),\n",
       "  ('cake', 0.04864820140083095),\n",
       "  ('children', 0.04125271719037081),\n",
       "  ('santa', 0.03819094604424876),\n",
       "  ('treasons', 0.03819094604424876)],\n",
       " 28: [('drone', 0.06509742971223154),\n",
       "  ('laser', 0.04841955021554662),\n",
       "  ('area', 0.04115015369888707),\n",
       "  ('sqn', 0.03825490454736708),\n",
       "  ('rockets', 0.03481146691662169),\n",
       "  ('drop', 0.02822040719514694),\n",
       "  ('5c', 0.02732850992331119),\n",
       "  ('aboard', 0.02732850992331119),\n",
       "  ('starship', 0.02732850992331119),\n",
       "  ('squadron', 0.02732850992331119)],\n",
       " 29: [('elecciones', 0.09980063438258956),\n",
       "  ('vote', 0.08552242396950942),\n",
       "  ('elegir', 0.07633402400529236),\n",
       "  ('voting', 0.06030933350350042),\n",
       "  ('votar', 0.04990031719129478),\n",
       "  ('delegados', 0.040206222335666945),\n",
       "  ('voto', 0.03816701200264618),\n",
       "  ('participar', 0.0365871407925585),\n",
       "  ('prximo', 0.03529780782710822),\n",
       "  ('municipales', 0.03529780782710822)],\n",
       " 30: [('interview', 0.09835393069285797),\n",
       "  ('pm', 0.06533464247770836),\n",
       "  ('twitch', 0.05914483661439473),\n",
       "  ('pst', 0.05914483661439473),\n",
       "  ('interviews', 0.047130748396761735),\n",
       "  ('streamer', 0.044509301088334036),\n",
       "  ('enjoy', 0.04009516773507166),\n",
       "  ('voices', 0.037797744715841686),\n",
       "  ('would', 0.031267046562460224),\n",
       "  ('thoughts', 0.026730111823381104)],\n",
       " 31: [('medios', 0.07748971874544852),\n",
       "  ('comunidad', 0.050273111122235516),\n",
       "  ('prensa', 0.04819212451269815),\n",
       "  ('todas', 0.03932161793627022),\n",
       "  ('manipulacin', 0.03783290592508393),\n",
       "  ('journalists', 0.03783290592508393),\n",
       "  ('sided', 0.03530608898850754),\n",
       "  ('blogs', 0.03530608898850754),\n",
       "  ('comunicacin', 0.03351540741482368),\n",
       "  ('frauds', 0.03351540741482368)],\n",
       " 32: [('get', 0.07938497216615348),\n",
       "  ('journey', 0.06984988731984092),\n",
       "  ('put', 0.06822061270031471),\n",
       "  ('hotel', 0.06769521446600604),\n",
       "  ('catch', 0.06418844397396821),\n",
       "  ('experience', 0.05804728678124183),\n",
       "  ('waiting', 0.057091867150730224),\n",
       "  ('went', 0.05120134095746239),\n",
       "  ('since', 0.049007453872282565),\n",
       "  ('end', 0.049007453872282565)],\n",
       " 33: [('chamber', 0.11365016544958445),\n",
       "  ('top', 0.10945251780003383),\n",
       "  ('montez', 0.09608398656737326),\n",
       "  ('wwechamber', 0.09470847120798705),\n",
       "  ('splash', 0.09269798130296644),\n",
       "  ('elimination', 0.09269798130296644),\n",
       "  ('wweraw', 0.05657256960760214),\n",
       "  ('plexi', 0.05657256960760214),\n",
       "  ('wen', 0.05279415175851594),\n",
       "  ('frog', 0.04634899065148322)],\n",
       " 34: [('office', 0.06684152849724552),\n",
       "  ('engineering', 0.064093209398866),\n",
       "  ('design', 0.060105352218508386),\n",
       "  ('pool', 0.05744653657872225),\n",
       "  ('autonomous', 0.04823318683676039),\n",
       "  ('finnish', 0.04823318683676039),\n",
       "  ('immerses', 0.04823318683676039),\n",
       "  ('luxury', 0.04823318683676039),\n",
       "  ('swimming', 0.04501174691761917),\n",
       "  ('cable', 0.04501174691761917)],\n",
       " 35: [('harry', 0.14873043895529056),\n",
       "  ('styles', 0.1382163187484549),\n",
       "  ('ticket', 0.1290611574563482),\n",
       "  ('iso', 0.09827233470947155),\n",
       "  ('selling', 0.08062618593659869),\n",
       "  ('kitchen', 0.07559023790163791),\n",
       "  ('n2', 0.07559023790163791),\n",
       "  ('jonnys', 0.06927888519345647),\n",
       "  ('hslot', 0.06927888519345647),\n",
       "  ('front', 0.06266308170702496)],\n",
       " 36: [('bay', 0.3554204550787335),\n",
       "  ('open', 0.29691395920193975),\n",
       "  ('doors', 0.27514700951543536),\n",
       "  ('hal', 0.2712267053219064),\n",
       "  ('dave', 0.15586143401465735),\n",
       "  ('afraid', 0.1402198913075383),\n",
       "  ('door', 0.1367213856645523),\n",
       "  ('sorry', 0.11314832555134204),\n",
       "  ('chatgpt', 0.07710739922031705),\n",
       "  ('im', 0.0659481673910599)],\n",
       " 37: [('racing', 0.4694283276108351),\n",
       "  ('streaks', 0.08901860217666807),\n",
       "  ('blue', 0.05620224611020456),\n",
       "  ('gitlab', 0.04959732609914973),\n",
       "  ('pipel', 0.04959732609914973),\n",
       "  ('pleasantly', 0.04959732609914973),\n",
       "  ('efficiently', 0.04959732609914973),\n",
       "  ('sigurd', 0.04959732609914973),\n",
       "  ('disappointed', 0.04959732609914973),\n",
       "  ('daytona', 0.04959732609914973)],\n",
       " 38: [('juul', 0.3727879999570346),\n",
       "  ('hot', 0.08976037550567481),\n",
       "  ('wooooo', 0.08327452283314027),\n",
       "  ('boneror', 0.08327452283314027),\n",
       "  ('whoakay', 0.08327452283314027),\n",
       "  ('euphoria', 0.08327452283314027),\n",
       "  ('incarnation', 0.08327452283314027),\n",
       "  ('marcy', 0.08327452283314027),\n",
       "  ('meanan', 0.08327452283314027),\n",
       "  ('revived', 0.08327452283314027)],\n",
       " 39: [('hosting', 0.09034511705049678),\n",
       "  ('swag', 0.0637102357687354),\n",
       "  ('ai', 0.063072269371461),\n",
       "  ('builders', 0.045513270285815255),\n",
       "  ('quantum', 0.045513270285815255),\n",
       "  ('announce', 0.04247349051249027),\n",
       "  ('co', 0.04053250066343973),\n",
       "  ('launch', 0.040319287115577356),\n",
       "  ('host', 0.037288285712095526),\n",
       "  ('visit', 0.03613804682019871)],\n",
       " 40: [('army', 0.07214078726060702),\n",
       "  ('militares', 0.0691546181348135),\n",
       "  ('aumentar', 0.054289371731062144),\n",
       "  ('mtenlo', 0.054289371731062144),\n",
       "  ('intelligence', 0.050663446082163284),\n",
       "  ('federal', 0.04610307875654233),\n",
       "  ('unidos', 0.04447840358483144),\n",
       "  ('ms', 0.041531942267679055),\n",
       "  ('dos', 0.032603544466186817),\n",
       "  ('plantar', 0.030247696634459025)],\n",
       " 41: [('vapetime', 0.2090069454169996),\n",
       "  ('uwelltech', 0.2061526371843188),\n",
       "  ('vapedaily', 0.20344788826659013),\n",
       "  ('vapefam', 0.20087809153953398),\n",
       "  ('vapelove', 0.19571808619947978),\n",
       "  ('uwell', 0.18769244781791208),\n",
       "  ('caliburna', 0.1710106788990942),\n",
       "  ('21', 0.11636505502700274),\n",
       "  ('adults', 0.10852374563773898),\n",
       "  ('caliburn', 0.1068472890641465)],\n",
       " 42: [('holder', 0.11728550240831692),\n",
       "  ('pacifier', 0.10939724999357439),\n",
       "  ('tracking', 0.10602265206808299),\n",
       "  ('pivo', 0.09116437499464532),\n",
       "  ('case', 0.08941593899342307),\n",
       "  ('auto', 0.07068176804538866),\n",
       "  ('phone', 0.06548799748515015),\n",
       "  ('litter', 0.06230486292089566),\n",
       "  ('kit', 0.060943414028243624),\n",
       "  ('pet', 0.05914483661439473)],\n",
       " 43: [('phala', 0.06208476869757363),\n",
       "  ('solar', 0.05793819731447391),\n",
       "  ('luz', 0.05499964293714655),\n",
       "  ('art', 0.04793842437864558),\n",
       "  ('black', 0.03819457204025853),\n",
       "  ('2013', 0.03459095563838135),\n",
       "  ('nejvc', 0.03459095563838135),\n",
       "  ('tamao', 0.03459095563838135),\n",
       "  ('phoenix', 0.03459095563838135),\n",
       "  ('dominate', 0.03459095563838135)],\n",
       " 44: [('coming', 0.15366769538520275),\n",
       "  ('releasing', 0.08291118195733016),\n",
       "  ('years', 0.07949236680339462),\n",
       "  ('time', 0.07145883885525256),\n",
       "  ('start', 0.07131756801447271),\n",
       "  ('finally', 0.05863379367709403),\n",
       "  ('afterfirst', 0.05439706733455131),\n",
       "  ('bootlegs', 0.05439706733455131),\n",
       "  ('binned', 0.05439706733455131),\n",
       "  ('breaks', 0.05439706733455131)],\n",
       " 45: [('coach', 0.15306879704096907),\n",
       "  ('coaching', 0.1488533877999345),\n",
       "  ('hire', 0.10794218289480012),\n",
       "  ('coaches', 0.07711165538870611),\n",
       "  ('betus', 0.07196145526320008),\n",
       "  ('head', 0.06867289921321637),\n",
       "  ('job', 0.055529135241390866),\n",
       "  ('abdalla', 0.04296328885021887),\n",
       "  ('pokemonscarletviolet', 0.04296328885021887),\n",
       "  ('bleck', 0.04296328885021887)],\n",
       " 46: [('thc', 0.10121106121854499),\n",
       "  ('stiiizy', 0.10121106121854499),\n",
       "  ('stock', 0.07685679235593477),\n",
       "  ('vape', 0.0704242417965505),\n",
       "  ('weed', 0.060587535088302176),\n",
       "  ('cartridge', 0.060587535088302176),\n",
       "  ('pierzynk', 0.04588596156111811),\n",
       "  ('patterns', 0.04588596156111811),\n",
       "  ('pica', 0.04588596156111811),\n",
       "  ('15000puffs', 0.04588596156111811)],\n",
       " 47: [('garganta', 0.06724969331144293),\n",
       "  ('appointment', 0.06383887126633081),\n",
       "  ('doctor', 0.05721857413198129),\n",
       "  ('problem', 0.05721857413198129),\n",
       "  ('fix', 0.05721857413198129),\n",
       "  ('feeling', 0.049063778112716304),\n",
       "  ('finally', 0.04327732390452178),\n",
       "  ('going', 0.04299265003578625),\n",
       "  ('juul', 0.04229107562537787),\n",
       "  ('already', 0.04185865890876348)],\n",
       " 48: [('emergency', 0.6332976592543166),\n",
       "  ('wheres', 0.14606238677868574),\n",
       "  ('allotted', 0.10539431796069317),\n",
       "  ('ds', 0.10539431796069317),\n",
       "  ('lgrw', 0.10539431796069317),\n",
       "  ('jt', 0.10539431796069317),\n",
       "  ('harrison', 0.10539431796069317),\n",
       "  ('mum', 0.10539431796069317),\n",
       "  ('emergancy', 0.10539431796069317),\n",
       "  ('crib', 0.10539431796069317)],\n",
       " 49: [('clarke', 0.27170558613316204),\n",
       "  ('emilia', 0.2620516241395946),\n",
       "  ('generation', 0.25516297272792043),\n",
       "  ('sundance', 0.14856916998134306),\n",
       "  ('premiere', 0.12398763436697777),\n",
       "  ('starring', 0.12398763436697777),\n",
       "  ('festival', 0.12398763436697777),\n",
       "  ('film', 0.09225759039750515),\n",
       "  ('movies', 0.059427667992537216),\n",
       "  ('inventions', 0.03898980548834891)],\n",
       " 50: [('goofy', 0.14771532417685257),\n",
       "  ('lottery', 0.14250982757783637),\n",
       "  ('driven', 0.13431024071603287),\n",
       "  ('giant', 0.1309591816710271),\n",
       "  ('giveaway', 0.10837962217561498),\n",
       "  ('story', 0.10327246337619703),\n",
       "  ('possums', 0.09245629631675498),\n",
       "  ('deflationary', 0.06957775802314287),\n",
       "  ('coyote', 0.06957775802314287),\n",
       "  ('wl', 0.06957775802314287)],\n",
       " 51: [('fantasy', 0.1619373434267117),\n",
       "  ('cricket', 0.15823495839051507),\n",
       "  ('contest', 0.11302497027893933),\n",
       "  ('following', 0.11302497027893933),\n",
       "  ('indvsnz', 0.10888254185526473),\n",
       "  ('join', 0.0983484974969004),\n",
       "  ('link', 0.09020823732962778),\n",
       "  ('odi', 0.08166190639144856),\n",
       "  ('play', 0.07333147281836229),\n",
       "  ('nd', 0.06276178723047975)],\n",
       " 52: [('publishing', 0.12617565144404208),\n",
       "  ('selfpub', 0.09968778067343305),\n",
       "  ('bookpublishing', 0.09968778067343305),\n",
       "  ('editor', 0.09463173858303156),\n",
       "  ('indiepub', 0.07121488174133446),\n",
       "  ('anthology', 0.07121488174133446),\n",
       "  ('publish', 0.07121488174133446),\n",
       "  ('amwriting', 0.07121488174133446),\n",
       "  ('javascript', 0.06645852044895537),\n",
       "  ('short', 0.05239039798812012)],\n",
       " 53: [('buenvivirporelpueblo', 0.10809401692881122),\n",
       "  ('increase', 0.10087453996716439),\n",
       "  ('amrica', 0.10087453996716439),\n",
       "  ('pa', 0.08582786119797194),\n",
       "  ('02mar', 0.06022532454896752),\n",
       "  ('seguedemos', 0.06022532454896752),\n",
       "  ('tadifa', 0.06022532454896752),\n",
       "  ('soleada', 0.06022532454896752),\n",
       "  ('rivera', 0.06022532454896752),\n",
       "  ('sustituy', 0.06022532454896752)],\n",
       " 54: [('talk', 0.15790913097095208),\n",
       "  ('next', 0.12198541871437002),\n",
       "  ('idea', 0.11973367783210798),\n",
       "  ('smidgen', 0.10706724364260892),\n",
       "  ('philosophy', 0.10706724364260892),\n",
       "  ('forth', 0.10706724364260892),\n",
       "  ('toomey', 0.10706724364260892),\n",
       "  ('muh', 0.10706724364260892),\n",
       "  ('likewise', 0.09608357060338776),\n",
       "  ('wc', 0.09608357060338776)],\n",
       " 55: [('living', 0.1899034810138717),\n",
       "  ('moving', 0.10464170993099874),\n",
       "  ('sustainable', 0.08431304833076426),\n",
       "  ('housing', 0.08431304833076426),\n",
       "  ('building', 0.06976113995399916),\n",
       "  ('use', 0.06345498372784705),\n",
       "  ('might', 0.05247951266173332),\n",
       "  ('200k', 0.050337584697644495),\n",
       "  ('zoning', 0.050337584697644495),\n",
       "  ('floodplain', 0.050337584697644495)],\n",
       " 56: [('green', 0.0879924317454998),\n",
       "  ('raging', 0.08466104822396404),\n",
       "  ('wasteland', 0.08466104822396404),\n",
       "  ('vanished', 0.08466104822396404),\n",
       "  ('horrors', 0.07900663270155533),\n",
       "  ('offset', 0.07900663270155533),\n",
       "  ('jungle', 0.07900663270155533),\n",
       "  ('survive', 0.07900663270155533),\n",
       "  ('exposure', 0.07900663270155533),\n",
       "  ('birds', 0.07189501092803455)],\n",
       " 57: [('cassie', 0.13757420336394158),\n",
       "  ('doana', 0.13757420336394158),\n",
       "  ('queen', 0.11682939275805614),\n",
       "  ('classic', 0.10357680732163053),\n",
       "  ('early', 0.08933344464786862),\n",
       "  ('zorritos', 0.0766504130623223),\n",
       "  ('rottmnt', 0.0766504130623223),\n",
       "  ('turtles', 0.0766504130623223),\n",
       "  ('timeless', 0.0766504130623223),\n",
       "  ('willy', 0.0766504130623223)]}"
      ]
     },
     "execution_count": 29,
     "metadata": {},
     "output_type": "execute_result"
    }
   ],
   "source": [
    "topic_model.get_topics()"
   ]
  },
  {
   "cell_type": "code",
   "execution_count": 30,
   "metadata": {},
   "outputs": [],
   "source": [
    "#reduce the number of topics after training the model. This is a great option if retraining the model will take many hours\n",
    "#new_topics, new_probs = topic_model.reduce_topics(cleaned_tweets, nr_topics=250)"
   ]
  }
 ],
 "metadata": {
  "kernelspec": {
   "display_name": "Python 3",
   "language": "python",
   "name": "python3"
  },
  "language_info": {
   "codemirror_mode": {
    "name": "ipython",
    "version": 3
   },
   "file_extension": ".py",
   "mimetype": "text/x-python",
   "name": "python",
   "nbconvert_exporter": "python",
   "pygments_lexer": "ipython3",
   "version": "3.8.10"
  },
  "orig_nbformat": 4
 },
 "nbformat": 4,
 "nbformat_minor": 2
}
